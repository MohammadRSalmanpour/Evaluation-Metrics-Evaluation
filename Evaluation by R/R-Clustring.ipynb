{
 "cells": [
  {
   "cell_type": "code",
   "execution_count": 9,
   "id": "86dd0e4d",
   "metadata": {},
   "outputs": [
    {
     "data": {
      "text/html": [
       "'Silhouette score (cluster): 0.215153612349399'"
      ],
      "text/latex": [
       "'Silhouette score (cluster): 0.215153612349399'"
      ],
      "text/markdown": [
       "'Silhouette score (cluster): 0.215153612349399'"
      ],
      "text/plain": [
       "[1] \"Silhouette score (cluster): 0.215153612349399\""
      ]
     },
     "metadata": {},
     "output_type": "display_data"
    },
    {
     "name": "stdout",
     "output_type": "stream",
     "text": [
      "  cluster size ave.sil.width\n",
      "0       0   90         -0.01\n",
      "1       1  121          0.12\n",
      "2       2  197          0.38\n"
     ]
    },
    {
     "data": {
      "text/html": [
       "'Silhouette score (factoextra): 0.215153612349399'"
      ],
      "text/latex": [
       "'Silhouette score (factoextra): 0.215153612349399'"
      ],
      "text/markdown": [
       "'Silhouette score (factoextra): 0.215153612349399'"
      ],
      "text/plain": [
       "[1] \"Silhouette score (factoextra): 0.215153612349399\""
      ]
     },
     "metadata": {},
     "output_type": "display_data"
    },
    {
     "name": "stdout",
     "output_type": "stream",
     "text": [
      "[1] \"Davies-Bouldin Index (ClusterCrit): 3.2033351804494363257447276\"\n",
      "[1] \"Calinski-Harabasz Index (ClusterCrit): 93.425331426811923\"\n"
     ]
    },
    {
     "data": {
      "text/html": [
       "'WCSS (kmeans): 218231.650750211934792'"
      ],
      "text/latex": [
       "'WCSS (kmeans): 218231.650750211934792'"
      ],
      "text/markdown": [
       "'WCSS (kmeans): 218231.650750211934792'"
      ],
      "text/plain": [
       "[1] \"WCSS (kmeans): 218231.650750211934792\""
      ]
     },
     "metadata": {},
     "output_type": "display_data"
    }
   ],
   "source": [
    "library(readxl)\n",
    "library(caTools)\n",
    "library(cluster)   # For silhouette calculation\n",
    "library(factoextra) # For silhouette visualization\n",
    "library(clusterCrit) # For clustering criteria\n",
    "file_path <- \"C:/Users/SADEGHI/Desktop/Processed_HC_DF_SPT_Head_and_Neck.xlsx\"\n",
    "data <- read_excel(file_path)\n",
    "features <- data[, 1:(ncol(data) - 1)]\n",
    "y_pred <- data[, ncol(data)] \n",
    "set.seed(42)\n",
    "split <- sample.split(y_pred, SplitRatio = 0.7)  \n",
    "train_data <- subset(data, split == TRUE)\n",
    "test_data <- subset(data, split == FALSE)\n",
    "train_features <- train_data[, 1:(ncol(data) - 1)]\n",
    "test_features <- test_data[, 1:(ncol(data) - 1)]\n",
    "train_y_pred <- train_data[, ncol(data)]\n",
    "test_y_pred <- test_data[, ncol(data)]\n",
    "y_pred <- as.integer(unlist(y_pred))\n",
    "X <- as.matrix(features)\n",
    "distance_matrix <- dist(X)\n",
    "silhouette_scores <- silhouette(y_pred, distance_matrix)\n",
    "mean_silhouette_score <- mean(silhouette_scores[, 3])\n",
    "sprintf(\"Silhouette score (cluster): %.15f\", mean_silhouette_score)\n",
    "silhouette_result <- fviz_silhouette(silhouette(y_pred, dist(X)))\n",
    "mean_silhouette_score <- mean(silhouette_result$data$sil_width)\n",
    "sprintf(\"Silhouette score (factoextra): %.15f\", mean_silhouette_score)\n",
    "bi_crit <- intCriteria(as.matrix(X), as.integer(y_pred), \"Davies_Bouldin\")\n",
    "print(sprintf(\"Davies-Bouldin Index (ClusterCrit): %.25f\", dbi_crit[[1]]))\n",
    "ch_index_crit <- intCriteria(as.matrix(X), as.integer(y_pred), \"Calinski_Harabasz\")\n",
    "print(sprintf(\"Calinski-Harabasz Index (ClusterCrit): %.15f\", ch_index_crit[[1]]))\n",
    "X_scaled <- scale(X)\n",
    "X_scaled <- X_scaled[!duplicated(X_scaled), ]\n",
    "X_scaled[is.na(X_scaled)] <- 0\n",
    "X_scaled[is.nan(X_scaled)] <- 0\n",
    "X_scaled[is.infinite(X_scaled)] <- 0\n",
    "set.seed(42)\n",
    "kmeans_result <- kmeans(X_scaled, centers = 3)\n",
    "wcss_kmeans <- kmeans_result$tot.withinss\n",
    "sprintf(\"WCSS (kmeans): %.15f\", wcss_kmeans)\n"
   ]
  },
  {
   "cell_type": "code",
   "execution_count": 10,
   "id": "765db96d",
   "metadata": {},
   "outputs": [
    {
     "data": {
      "text/html": [
       "'Silhouette score (cluster): 0.284113696388158'"
      ],
      "text/latex": [
       "'Silhouette score (cluster): 0.284113696388158'"
      ],
      "text/markdown": [
       "'Silhouette score (cluster): 0.284113696388158'"
      ],
      "text/plain": [
       "[1] \"Silhouette score (cluster): 0.284113696388158\""
      ]
     },
     "metadata": {},
     "output_type": "display_data"
    },
    {
     "name": "stdout",
     "output_type": "stream",
     "text": [
      "  cluster size ave.sil.width\n",
      "0       0  157         -0.52\n",
      "1       1  232          0.88\n",
      "2       2   19         -0.36\n"
     ]
    },
    {
     "data": {
      "text/html": [
       "'Silhouette score (factoextra): 0.284113696388158'"
      ],
      "text/latex": [
       "'Silhouette score (factoextra): 0.284113696388158'"
      ],
      "text/markdown": [
       "'Silhouette score (factoextra): 0.284113696388158'"
      ],
      "text/plain": [
       "[1] \"Silhouette score (factoextra): 0.284113696388158\""
      ]
     },
     "metadata": {},
     "output_type": "display_data"
    },
    {
     "name": "stdout",
     "output_type": "stream",
     "text": [
      "[1] \"Davies-Bouldin Index (ClusterCrit): 1.6673270643334727747486568\"\n",
      "[1] \"Calinski-Harabasz Index (ClusterCrit): 54.866301865906543\"\n"
     ]
    },
    {
     "data": {
      "text/html": [
       "'WCSS (kmeans): 61454.310835530697659'"
      ],
      "text/latex": [
       "'WCSS (kmeans): 61454.310835530697659'"
      ],
      "text/markdown": [
       "'WCSS (kmeans): 61454.310835530697659'"
      ],
      "text/plain": [
       "[1] \"WCSS (kmeans): 61454.310835530697659\""
      ]
     },
     "metadata": {},
     "output_type": "display_data"
    }
   ],
   "source": [
    "library(readxl)\n",
    "library(caTools)\n",
    "library(cluster)   # For silhouette calculation\n",
    "library(factoextra) # For silhouette visualization\n",
    "library(clusterCrit) # For clustering criteria\n",
    "file_path <- \"C:/Users/SADEGHI/Desktop/Processed_HC_DF_PT_Head_and_Neck.xlsx\"\n",
    "data <- read_excel(file_path)\n",
    "features <- data[, 1:(ncol(data) - 1)]\n",
    "y_pred <- data[, ncol(data)] \n",
    "set.seed(42)\n",
    "split <- sample.split(y_pred, SplitRatio = 0.7)  \n",
    "train_data <- subset(data, split == TRUE)\n",
    "test_data <- subset(data, split == FALSE)\n",
    "train_features <- train_data[, 1:(ncol(data) - 1)]\n",
    "test_features <- test_data[, 1:(ncol(data) - 1)]\n",
    "train_y_pred <- train_data[, ncol(data)]\n",
    "test_y_pred <- test_data[, ncol(data)]\n",
    "y_pred <- as.integer(unlist(y_pred))\n",
    "X <- as.matrix(features)\n",
    "distance_matrix <- dist(X)\n",
    "silhouette_scores <- silhouette(y_pred, distance_matrix)\n",
    "mean_silhouette_score <- mean(silhouette_scores[, 3])\n",
    "sprintf(\"Silhouette score (cluster): %.15f\", mean_silhouette_score)\n",
    "silhouette_result <- fviz_silhouette(silhouette(y_pred, dist(X)))\n",
    "mean_silhouette_score <- mean(silhouette_result$data$sil_width)\n",
    "sprintf(\"Silhouette score (factoextra): %.15f\", mean_silhouette_score)\n",
    "dbi_crit <- intCriteria(as.matrix(X), as.integer(y_pred), \"Davies_Bouldin\")\n",
    "print(sprintf(\"Davies-Bouldin Index (ClusterCrit): %.25f\", dbi_crit[[1]]))\n",
    "ch_index_crit <- intCriteria(as.matrix(X), as.integer(y_pred), \"Calinski_Harabasz\")\n",
    "print(sprintf(\"Calinski-Harabasz Index (ClusterCrit): %.15f\", ch_index_crit[[1]]))\n",
    "X_scaled <- scale(X)\n",
    "X_scaled <- X_scaled[!duplicated(X_scaled), ]\n",
    "X_scaled[is.na(X_scaled)] <- 0\n",
    "X_scaled[is.nan(X_scaled)] <- 0\n",
    "X_scaled[is.infinite(X_scaled)] <- 0\n",
    "set.seed(42)\n",
    "kmeans_result <- kmeans(X_scaled, centers = 3)\n",
    "wcss_kmeans <- kmeans_result$tot.withinss\n",
    "sprintf(\"WCSS (kmeans): %.15f\", wcss_kmeans)\n"
   ]
  },
  {
   "cell_type": "code",
   "execution_count": 7,
   "id": "d7c6d801",
   "metadata": {},
   "outputs": [
    {
     "data": {
      "text/html": [
       "'Silhouette score (cluster): -0.092990842878613'"
      ],
      "text/latex": [
       "'Silhouette score (cluster): -0.092990842878613'"
      ],
      "text/markdown": [
       "'Silhouette score (cluster): -0.092990842878613'"
      ],
      "text/plain": [
       "[1] \"Silhouette score (cluster): -0.092990842878613\""
      ]
     },
     "metadata": {},
     "output_type": "display_data"
    },
    {
     "name": "stdout",
     "output_type": "stream",
     "text": [
      "  cluster size ave.sil.width\n",
      "0       0  146          0.12\n",
      "1       1  101         -0.43\n",
      "2       2  161         -0.08\n"
     ]
    },
    {
     "data": {
      "text/html": [
       "'Silhouette score (factoextra): -0.092990842878613'"
      ],
      "text/latex": [
       "'Silhouette score (factoextra): -0.092990842878613'"
      ],
      "text/markdown": [
       "'Silhouette score (factoextra): -0.092990842878613'"
      ],
      "text/plain": [
       "[1] \"Silhouette score (factoextra): -0.092990842878613\""
      ]
     },
     "metadata": {},
     "output_type": "display_data"
    },
    {
     "name": "stdout",
     "output_type": "stream",
     "text": [
      "[1] \"Davies-Bouldin Index (ClusterCrit): 3.2033351804494363257447276\"\n",
      "[1] \"Calinski-Harabasz Index (ClusterCrit): 55.204092286711415\"\n"
     ]
    },
    {
     "data": {
      "text/html": [
       "'WCSS (kmeans): 58861.227735979977297'"
      ],
      "text/latex": [
       "'WCSS (kmeans): 58861.227735979977297'"
      ],
      "text/markdown": [
       "'WCSS (kmeans): 58861.227735979977297'"
      ],
      "text/plain": [
       "[1] \"WCSS (kmeans): 58861.227735979977297\""
      ]
     },
     "metadata": {},
     "output_type": "display_data"
    }
   ],
   "source": [
    "library(readxl)\n",
    "library(caTools)\n",
    "library(cluster)   # For silhouette calculation\n",
    "library(factoextra) # For silhouette visualization\n",
    "library(clusterCrit) # For clustering criteria\n",
    "file_path <- \"C:/Users/SADEGHI/Desktop/cluster_HC_RF_CT.xlsx\"\n",
    "data <- read_excel(file_path)\n",
    "features <- data[, 1:(ncol(data) - 1)]\n",
    "y_pred <- data[, ncol(data)] \n",
    "set.seed(42)\n",
    "split <- sample.split(y_pred, SplitRatio = 0.7)  \n",
    "train_data <- subset(data, split == TRUE)\n",
    "test_data <- subset(data, split == FALSE)\n",
    "train_features <- train_data[, 1:(ncol(data) - 1)]\n",
    "test_features <- test_data[, 1:(ncol(data) - 1)]\n",
    "train_y_pred <- train_data[, ncol(data)]\n",
    "test_y_pred <- test_data[, ncol(data)]\n",
    "y_pred <- as.integer(unlist(y_pred))\n",
    "X <- as.matrix(features)\n",
    "distance_matrix <- dist(X)\n",
    "silhouette_scores <- silhouette(y_pred, distance_matrix)\n",
    "mean_silhouette_score <- mean(silhouette_scores[, 3])\n",
    "sprintf(\"Silhouette score (cluster): %.15f\", mean_silhouette_score)\n",
    "silhouette_result <- fviz_silhouette(silhouette(y_pred, dist(X)))\n",
    "mean_silhouette_score <- mean(silhouette_result$data$sil_width)\n",
    "sprintf(\"Silhouette score (factoextra): %.15f\", mean_silhouette_score)\n",
    "dbi_crit <- intCriteria(as.matrix(X), as.integer(y_pred), \"Davies_Bouldin\")\n",
    "print(sprintf(\"Davies-Bouldin Index (ClusterCrit): %.25f\", dbi_crit[[1]]))\n",
    "ch_index_crit <- intCriteria(as.matrix(X), as.integer(y_pred), \"Calinski_Harabasz\")\n",
    "print(sprintf(\"Calinski-Harabasz Index (ClusterCrit): %.15f\", ch_index_crit[[1]]))\n",
    "X_scaled <- scale(X)\n",
    "X_scaled <- X_scaled[!duplicated(X_scaled), ]\n",
    "X_scaled[is.na(X_scaled)] <- 0\n",
    "X_scaled[is.nan(X_scaled)] <- 0\n",
    "X_scaled[is.infinite(X_scaled)] <- 0\n",
    "set.seed(42)\n",
    "kmeans_result <- kmeans(X_scaled, centers = 3)\n",
    "wcss_kmeans <- kmeans_result$tot.withinss\n",
    "sprintf(\"WCSS (kmeans): %.15f\", wcss_kmeans)\n"
   ]
  },
  {
   "cell_type": "code",
   "execution_count": 6,
   "id": "76bd6648",
   "metadata": {},
   "outputs": [
    {
     "data": {
      "text/html": [
       "'Silhouette score (cluster): 0.094597478452634'"
      ],
      "text/latex": [
       "'Silhouette score (cluster): 0.094597478452634'"
      ],
      "text/markdown": [
       "'Silhouette score (cluster): 0.094597478452634'"
      ],
      "text/plain": [
       "[1] \"Silhouette score (cluster): 0.094597478452634\""
      ]
     },
     "metadata": {},
     "output_type": "display_data"
    },
    {
     "name": "stdout",
     "output_type": "stream",
     "text": [
      "  cluster size ave.sil.width\n",
      "0       0   46          0.19\n",
      "1       1   90          0.01\n",
      "2       2   63          0.14\n"
     ]
    },
    {
     "data": {
      "text/html": [
       "'Silhouette score (factoextra): 0.094597478452634'"
      ],
      "text/latex": [
       "'Silhouette score (factoextra): 0.094597478452634'"
      ],
      "text/markdown": [
       "'Silhouette score (factoextra): 0.094597478452634'"
      ],
      "text/plain": [
       "[1] \"Silhouette score (factoextra): 0.094597478452634\""
      ]
     },
     "metadata": {},
     "output_type": "display_data"
    },
    {
     "name": "stdout",
     "output_type": "stream",
     "text": [
      "[1] \"Davies-Bouldin Index (ClusterCrit): 2.4694577463739348921478722\"\n",
      "[1] \"Calinski-Harabasz Index (ClusterCrit): 31.212335100303100\"\n"
     ]
    },
    {
     "data": {
      "text/html": [
       "'WCSS (kmeans): 91190.246103427314665'"
      ],
      "text/latex": [
       "'WCSS (kmeans): 91190.246103427314665'"
      ],
      "text/markdown": [
       "'WCSS (kmeans): 91190.246103427314665'"
      ],
      "text/plain": [
       "[1] \"WCSS (kmeans): 91190.246103427314665\""
      ]
     },
     "metadata": {},
     "output_type": "display_data"
    }
   ],
   "source": [
    "library(readxl)\n",
    "library(caTools)\n",
    "library(cluster)   # For silhouette calculation\n",
    "library(factoextra) # For silhouette visualization\n",
    "library(clusterCrit) # For clustering criteria\n",
    "file_path <- \"C:/Users/SADEGHI/Desktop/Processed_LC_DF_SCT_Lung.xlsx\"\n",
    "data <- read_excel(file_path)\n",
    "features <- data[, 1:(ncol(data) - 1)]\n",
    "y_pred <- data[, ncol(data)] \n",
    "set.seed(42)\n",
    "split <- sample.split(y_pred, SplitRatio = 0.7)  \n",
    "train_data <- subset(data, split == TRUE)\n",
    "test_data <- subset(data, split == FALSE)\n",
    "train_features <- train_data[, 1:(ncol(data) - 1)]\n",
    "test_features <- test_data[, 1:(ncol(data) - 1)]\n",
    "train_y_pred <- train_data[, ncol(data)]\n",
    "test_y_pred <- test_data[, ncol(data)]\n",
    "y_pred <- as.integer(unlist(y_pred))\n",
    "X <- as.matrix(features)\n",
    "distance_matrix <- dist(X)\n",
    "silhouette_scores <- silhouette(y_pred, distance_matrix)\n",
    "mean_silhouette_score <- mean(silhouette_scores[, 3])\n",
    "sprintf(\"Silhouette score (cluster): %.15f\", mean_silhouette_score)\n",
    "silhouette_result <- fviz_silhouette(silhouette(y_pred, dist(X)))\n",
    "mean_silhouette_score <- mean(silhouette_result$data$sil_width)\n",
    "sprintf(\"Silhouette score (factoextra): %.15f\", mean_silhouette_score)\n",
    "dbi_crit <- intCriteria(as.matrix(X), as.integer(y_pred), \"Davies_Bouldin\")\n",
    "print(sprintf(\"Davies-Bouldin Index (ClusterCrit): %.25f\", dbi_crit[[1]]))\n",
    "ch_index_crit <- intCriteria(as.matrix(X), as.integer(y_pred), \"Calinski_Harabasz\")\n",
    "print(sprintf(\"Calinski-Harabasz Index (ClusterCrit): %.15f\", ch_index_crit[[1]]))\n",
    "X_scaled <- scale(X)\n",
    "X_scaled <- X_scaled[!duplicated(X_scaled), ]\n",
    "X_scaled[is.na(X_scaled)] <- 0\n",
    "X_scaled[is.nan(X_scaled)] <- 0\n",
    "X_scaled[is.infinite(X_scaled)] <- 0\n",
    "set.seed(42)\n",
    "kmeans_result <- kmeans(X_scaled, centers = 3)\n",
    "wcss_kmeans <- kmeans_result$tot.withinss\n",
    "sprintf(\"WCSS (kmeans): %.15f\", wcss_kmeans)\n"
   ]
  },
  {
   "cell_type": "code",
   "execution_count": 5,
   "id": "d8e31bca",
   "metadata": {},
   "outputs": [
    {
     "data": {
      "text/html": [
       "'Silhouette score (cluster): 0.093802818253664'"
      ],
      "text/latex": [
       "'Silhouette score (cluster): 0.093802818253664'"
      ],
      "text/markdown": [
       "'Silhouette score (cluster): 0.093802818253664'"
      ],
      "text/plain": [
       "[1] \"Silhouette score (cluster): 0.093802818253664\""
      ]
     },
     "metadata": {},
     "output_type": "display_data"
    },
    {
     "name": "stdout",
     "output_type": "stream",
     "text": [
      "  cluster size ave.sil.width\n",
      "0       0    1          0.00\n",
      "1       1   94          0.18\n",
      "2       2  104          0.02\n"
     ]
    },
    {
     "data": {
      "text/html": [
       "'Silhouette score (factoextra): 0.093802818253664'"
      ],
      "text/latex": [
       "'Silhouette score (factoextra): 0.093802818253664'"
      ],
      "text/markdown": [
       "'Silhouette score (factoextra): 0.093802818253664'"
      ],
      "text/plain": [
       "[1] \"Silhouette score (factoextra): 0.093802818253664\""
      ]
     },
     "metadata": {},
     "output_type": "display_data"
    },
    {
     "name": "stdout",
     "output_type": "stream",
     "text": [
      "[1] \"Davies-Bouldin Index (ClusterCrit): 2.0630754878728683188171544\"\n",
      "[1] \"Calinski-Harabasz Index (ClusterCrit): 13.444629679573209\"\n"
     ]
    },
    {
     "data": {
      "text/html": [
       "'WCSS (kmeans): 72923.936409237649059'"
      ],
      "text/latex": [
       "'WCSS (kmeans): 72923.936409237649059'"
      ],
      "text/markdown": [
       "'WCSS (kmeans): 72923.936409237649059'"
      ],
      "text/plain": [
       "[1] \"WCSS (kmeans): 72923.936409237649059\""
      ]
     },
     "metadata": {},
     "output_type": "display_data"
    }
   ],
   "source": [
    "library(readxl)\n",
    "library(caTools)\n",
    "library(cluster)   # For silhouette calculation\n",
    "library(factoextra) # For silhouette visualization\n",
    "library(clusterCrit) # For clustering criteria\n",
    "file_path <- \"C:/Users/SADEGHI/Desktop/Processed_LC_DF_SPT_Lung.xlsx\"\n",
    "data <- read_excel(file_path)\n",
    "features <- data[, 1:(ncol(data) - 1)]\n",
    "y_pred <- data[, ncol(data)] \n",
    "set.seed(42)\n",
    "split <- sample.split(y_pred, SplitRatio = 0.7)  \n",
    "train_data <- subset(data, split == TRUE)\n",
    "test_data <- subset(data, split == FALSE)\n",
    "train_features <- train_data[, 1:(ncol(data) - 1)]\n",
    "test_features <- test_data[, 1:(ncol(data) - 1)]\n",
    "train_y_pred <- train_data[, ncol(data)]\n",
    "test_y_pred <- test_data[, ncol(data)]\n",
    "y_pred <- as.integer(unlist(y_pred))\n",
    "X <- as.matrix(features)\n",
    "distance_matrix <- dist(X)\n",
    "silhouette_scores <- silhouette(y_pred, distance_matrix)\n",
    "mean_silhouette_score <- mean(silhouette_scores[, 3])\n",
    "sprintf(\"Silhouette score (cluster): %.15f\", mean_silhouette_score)\n",
    "silhouette_result <- fviz_silhouette(silhouette(y_pred, dist(X)))\n",
    "mean_silhouette_score <- mean(silhouette_result$data$sil_width)\n",
    "sprintf(\"Silhouette score (factoextra): %.15f\", mean_silhouette_score)\n",
    "dbi_crit <- intCriteria(as.matrix(X), as.integer(y_pred), \"Davies_Bouldin\")\n",
    "print(sprintf(\"Davies-Bouldin Index (ClusterCrit): %.25f\", dbi_crit[[1]]))\n",
    "ch_index_crit <- intCriteria(as.matrix(X), as.integer(y_pred), \"Calinski_Harabasz\")\n",
    "print(sprintf(\"Calinski-Harabasz Index (ClusterCrit): %.15f\", ch_index_crit[[1]]))\n",
    "X_scaled <- scale(X)\n",
    "X_scaled <- X_scaled[!duplicated(X_scaled), ]\n",
    "\n",
    "\n",
    "X_scaled[is.na(X_scaled)] <- 0\n",
    "X_scaled[is.nan(X_scaled)] <- 0\n",
    "X_scaled[is.infinite(X_scaled)] <- 0\n",
    "set.seed(42)\n",
    "kmeans_result <- kmeans(X_scaled, centers = 3)\n",
    "wcss_kmeans <- kmeans_result$tot.withinss\n",
    "sprintf(\"WCSS (kmeans): %.15f\", wcss_kmeans)\n"
   ]
  },
  {
   "cell_type": "code",
   "execution_count": 4,
   "id": "01bb763d",
   "metadata": {},
   "outputs": [
    {
     "data": {
      "text/html": [
       "'Silhouette score (cluster): 0.001321851177639'"
      ],
      "text/latex": [
       "'Silhouette score (cluster): 0.001321851177639'"
      ],
      "text/markdown": [
       "'Silhouette score (cluster): 0.001321851177639'"
      ],
      "text/plain": [
       "[1] \"Silhouette score (cluster): 0.001321851177639\""
      ]
     },
     "metadata": {},
     "output_type": "display_data"
    },
    {
     "name": "stdout",
     "output_type": "stream",
     "text": [
      "  cluster size ave.sil.width\n",
      "0       0   54         -0.41\n",
      "1       1   95          0.34\n",
      "2       2   50         -0.21\n"
     ]
    },
    {
     "data": {
      "text/html": [
       "'Silhouette score (factoextra): 0.001321851177639'"
      ],
      "text/latex": [
       "'Silhouette score (factoextra): 0.001321851177639'"
      ],
      "text/markdown": [
       "'Silhouette score (factoextra): 0.001321851177639'"
      ],
      "text/plain": [
       "[1] \"Silhouette score (factoextra): 0.001321851177639\""
      ]
     },
     "metadata": {},
     "output_type": "display_data"
    },
    {
     "name": "stdout",
     "output_type": "stream",
     "text": [
      "[1] \"Davies-Bouldin Index (ClusterCrit): 13.1827576528997045812729993\"\n",
      "[1] \"Calinski-Harabasz Index (ClusterCrit): 8.413243346691408\"\n"
     ]
    },
    {
     "data": {
      "text/html": [
       "'WCSS (kmeans): 29435.367899418459274'"
      ],
      "text/latex": [
       "'WCSS (kmeans): 29435.367899418459274'"
      ],
      "text/markdown": [
       "'WCSS (kmeans): 29435.367899418459274'"
      ],
      "text/plain": [
       "[1] \"WCSS (kmeans): 29435.367899418459274\""
      ]
     },
     "metadata": {},
     "output_type": "display_data"
    }
   ],
   "source": [
    "library(readxl)\n",
    "library(caTools)\n",
    "library(cluster)   # For silhouette calculation\n",
    "library(factoextra) # For silhouette visualization\n",
    "library(clusterCrit) # For clustering criteria\n",
    "\n",
    "file_path <- \"C:/Users/SADEGHI/Desktop/Processed_RF_CT_Lung.xlsx\"\n",
    "data <- read_excel(file_path)\n",
    "features <- data[, 1:(ncol(data) - 1)]\n",
    "y_pred <- data[, ncol(data)] \n",
    "set.seed(42)\n",
    "split <- sample.split(y_pred, SplitRatio = 0.7)  \n",
    "train_data <- subset(data, split == TRUE)\n",
    "test_data <- subset(data, split == FALSE)\n",
    "train_features <- train_data[, 1:(ncol(data) - 1)]\n",
    "test_features <- test_data[, 1:(ncol(data) - 1)]\n",
    "train_y_pred <- train_data[, ncol(data)]\n",
    "test_y_pred <- test_data[, ncol(data)]\n",
    "\n",
    "y_pred <- as.integer(unlist(y_pred))\n",
    "\n",
    "\n",
    "X <- as.matrix(features)\n",
    "distance_matrix <- dist(X)\n",
    "silhouette_scores <- silhouette(y_pred, distance_matrix)\n",
    "mean_silhouette_score <- mean(silhouette_scores[, 3])\n",
    "sprintf(\"Silhouette score (cluster): %.15f\", mean_silhouette_score)\n",
    "\n",
    "silhouette_result <- fviz_silhouette(silhouette(y_pred, dist(X)))\n",
    "\n",
    "mean_silhouette_score <- mean(silhouette_result$data$sil_width)\n",
    "sprintf(\"Silhouette score (factoextra): %.15f\", mean_silhouette_score)\n",
    "\n",
    "dbi_crit <- intCriteria(as.matrix(X), as.integer(y_pred), \"Davies_Bouldin\")\n",
    "print(sprintf(\"Davies-Bouldin Index (ClusterCrit): %.25f\", dbi_crit[[1]]))\n",
    "\n",
    "ch_index_crit <- intCriteria(as.matrix(X), as.integer(y_pred), \"Calinski_Harabasz\")\n",
    "print(sprintf(\"Calinski-Harabasz Index (ClusterCrit): %.15f\", ch_index_crit[[1]]))\n",
    "\n",
    "X_scaled <- scale(X)\n",
    "\n",
    "X_scaled <- X_scaled[!duplicated(X_scaled), ]\n",
    "\n",
    "X_scaled[is.na(X_scaled)] <- 0\n",
    "X_scaled[is.nan(X_scaled)] <- 0\n",
    "X_scaled[is.infinite(X_scaled)] <- 0\n",
    "\n",
    "set.seed(42)\n",
    "\n",
    "kmeans_result <- kmeans(X_scaled, centers = 3)\n",
    "\n",
    "# Calculate WCSS\n",
    "wcss_kmeans <- kmeans_result$tot.withinss\n",
    "sprintf(\"WCSS (kmeans): %.15f\", wcss_kmeans)\n"
   ]
  },
  {
   "cell_type": "code",
   "execution_count": null,
   "id": "7ee4068c",
   "metadata": {},
   "outputs": [],
   "source": []
  }
 ],
 "metadata": {
  "kernelspec": {
   "display_name": "R",
   "language": "R",
   "name": "ir"
  },
  "language_info": {
   "codemirror_mode": "r",
   "file_extension": ".r",
   "mimetype": "text/x-r-source",
   "name": "R",
   "pygments_lexer": "r",
   "version": "4.3.0"
  }
 },
 "nbformat": 4,
 "nbformat_minor": 5
}
