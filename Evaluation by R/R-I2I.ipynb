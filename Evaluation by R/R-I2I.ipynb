{
 "cells": [
  {
   "cell_type": "code",
   "execution_count": 1,
   "id": "a4c7b627",
   "metadata": {},
   "outputs": [
    {
     "name": "stderr",
     "output_type": "stream",
     "text": [
      "Warning message:\n",
      "\"package 'readxl' was built under R version 4.3.3\"\n"
     ]
    },
    {
     "data": {
      "text/html": [
       "<table class=\"dataframe\">\n",
       "<caption>A tibble: 6 × 2</caption>\n",
       "<thead>\n",
       "\t<tr><th scope=col>y_true</th><th scope=col>y_pred</th></tr>\n",
       "\t<tr><th scope=col>&lt;dbl&gt;</th><th scope=col>&lt;dbl&gt;</th></tr>\n",
       "</thead>\n",
       "<tbody>\n",
       "\t<tr><td>0.3745401</td><td>0.87315929</td></tr>\n",
       "\t<tr><td>0.9507143</td><td>0.20553847</td></tr>\n",
       "\t<tr><td>0.7319939</td><td>0.04077327</td></tr>\n",
       "\t<tr><td>0.5986585</td><td>0.67227149</td></tr>\n",
       "\t<tr><td>0.1560186</td><td>0.34515747</td></tr>\n",
       "\t<tr><td>0.1559945</td><td>0.01758992</td></tr>\n",
       "</tbody>\n",
       "</table>\n"
      ],
      "text/latex": [
       "A tibble: 6 × 2\n",
       "\\begin{tabular}{ll}\n",
       " y\\_true & y\\_pred\\\\\n",
       " <dbl> & <dbl>\\\\\n",
       "\\hline\n",
       "\t 0.3745401 & 0.87315929\\\\\n",
       "\t 0.9507143 & 0.20553847\\\\\n",
       "\t 0.7319939 & 0.04077327\\\\\n",
       "\t 0.5986585 & 0.67227149\\\\\n",
       "\t 0.1560186 & 0.34515747\\\\\n",
       "\t 0.1559945 & 0.01758992\\\\\n",
       "\\end{tabular}\n"
      ],
      "text/markdown": [
       "\n",
       "A tibble: 6 × 2\n",
       "\n",
       "| y_true &lt;dbl&gt; | y_pred &lt;dbl&gt; |\n",
       "|---|---|\n",
       "| 0.3745401 | 0.87315929 |\n",
       "| 0.9507143 | 0.20553847 |\n",
       "| 0.7319939 | 0.04077327 |\n",
       "| 0.5986585 | 0.67227149 |\n",
       "| 0.1560186 | 0.34515747 |\n",
       "| 0.1559945 | 0.01758992 |\n",
       "\n"
      ],
      "text/plain": [
       "  y_true    y_pred    \n",
       "1 0.3745401 0.87315929\n",
       "2 0.9507143 0.20553847\n",
       "3 0.7319939 0.04077327\n",
       "4 0.5986585 0.67227149\n",
       "5 0.1560186 0.34515747\n",
       "6 0.1559945 0.01758992"
      ]
     },
     "metadata": {},
     "output_type": "display_data"
    }
   ],
   "source": [
    "library(readxl)\n",
    "data <- read_excel(\"C:/Users/SADEGHI/Desktop/I2I.xlsx\")\n",
    "head(data)\n",
    "y_true  <- data$y_true\n",
    "y_pred <- data$y_pred"
   ]
  },
  {
   "cell_type": "markdown",
   "id": "21134f40",
   "metadata": {},
   "source": [
    "# Base R"
   ]
  },
  {
   "cell_type": "code",
   "execution_count": 2,
   "id": "a444976a",
   "metadata": {},
   "outputs": [
    {
     "name": "stdout",
     "output_type": "stream",
     "text": [
      "[1] \"MAE: 0.330975843555788\"\n",
      "[1] \"MSE: 0.165280463279337\"\n",
      "[1] \"RMSE: 0.406547000086506\"\n",
      "[1] \"R Squared: -0.979511524117144\"\n"
     ]
    }
   ],
   "source": [
    "set.seed(42)\n",
    "\n",
    "library(readxl)\n",
    "data <- read_excel(\"C:/Users/SADEGHI/Desktop/I2I.xlsx\")\n",
    "y_true <- data$y_true\n",
    "y_pred <- data$y_pred\n",
    "y_true_vec <- as.vector(y_true)\n",
    "y_pred_vec <- as.vector(y_pred)\n",
    "\n",
    "# MAE\n",
    "mae_value <- mean(abs(y_true_vec - y_pred_vec))\n",
    "print(paste(\"MAE:\", mae_value))\n",
    "\n",
    "# MSE\n",
    "mse_value <- mean((y_true_vec - y_pred_vec) ^ 2)\n",
    "print(paste(\"MSE:\", mse_value))\n",
    "\n",
    "# RMSE\n",
    "rmse_value <- sqrt(mse_value)\n",
    "print(paste(\"RMSE:\", rmse_value))\n",
    "\n",
    "# R Squared\n",
    "rss <- sum((y_true_vec - y_pred_vec) ^ 2)\n",
    "tss <- sum((y_true_vec - mean(y_true_vec)) ^ 2)\n",
    "r_squared <- 1 - (rss / tss)\n",
    "print(paste(\"R Squared:\", r_squared))\n"
   ]
  },
  {
   "cell_type": "code",
   "execution_count": 3,
   "id": "baef8f84",
   "metadata": {},
   "outputs": [
    {
     "name": "stdout",
     "output_type": "stream",
     "text": [
      "[1] \"Base R PSNR: 7.81778478500049\"\n"
     ]
    }
   ],
   "source": [
    "calculate_psnr <- function(original, compressed) {\n",
    "  mse <- mean((original - compressed)^2)\n",
    "  if (mse == 0) return(Inf) \n",
    "  max_pixel <- 1.0 \n",
    "  psnr <- 20 * log10(max_pixel / sqrt(mse))\n",
    "  return(psnr)\n",
    "}\n",
    "psnr_base_r <- calculate_psnr(y_true, y_pred)\n",
    "print(paste(\"Base R PSNR:\", psnr_base_r))"
   ]
  },
  {
   "cell_type": "markdown",
   "id": "c1d81416",
   "metadata": {},
   "source": [
    "# imager"
   ]
  },
  {
   "cell_type": "code",
   "execution_count": 4,
   "id": "c7ed364c",
   "metadata": {},
   "outputs": [
    {
     "name": "stderr",
     "output_type": "stream",
     "text": [
      "Warning message:\n",
      "\"package 'imager' was built under R version 4.3.3\"\n",
      "Loading required package: magrittr\n",
      "\n",
      "\n",
      "Attaching package: 'imager'\n",
      "\n",
      "\n",
      "The following object is masked from 'package:magrittr':\n",
      "\n",
      "    add\n",
      "\n",
      "\n",
      "The following objects are masked from 'package:stats':\n",
      "\n",
      "    convolve, spectrum\n",
      "\n",
      "\n",
      "The following object is masked from 'package:graphics':\n",
      "\n",
      "    frame\n",
      "\n",
      "\n",
      "The following object is masked from 'package:base':\n",
      "\n",
      "    save.image\n",
      "\n",
      "\n"
     ]
    },
    {
     "name": "stdout",
     "output_type": "stream",
     "text": [
      "[1] \"imager PSNR: 7.81713191634383\"\n"
     ]
    }
   ],
   "source": [
    "library(readxl)\n",
    "library(imager)\n",
    "data <- read_excel(\"C:/Users/SADEGHI/Desktop/I2I.xlsx\")\n",
    "y_true <- data$y_true\n",
    "y_pred <- data$y_pred\n",
    "y_true_matrix <- matrix(y_true, nrow = 128, ncol = 128)\n",
    "y_pred_matrix <- matrix(y_pred, nrow = 128, ncol = 128)\n",
    "y_true_img <- as.cimg(y_true_matrix)\n",
    "y_pred_img <- as.cimg(y_pred_matrix)\n",
    "calculate_psnr_imager <- function(true_img, pred_img) {\n",
    "  true_img <- as.array(true_img)\n",
    "  pred_img <- as.array(pred_img)\n",
    "  mse <- mean((true_img - pred_img) ^ 2)\n",
    "  psnr <- 10 * log10(max(true_img)^2 / mse)\n",
    "  return(psnr)\n",
    "}\n",
    "psnr_imager <- calculate_psnr_imager(y_true_img, y_pred_img)\n",
    "print(paste(\"imager PSNR:\", psnr_imager))\n"
   ]
  },
  {
   "cell_type": "markdown",
   "id": "50981351",
   "metadata": {},
   "source": [
    "# caret"
   ]
  },
  {
   "cell_type": "code",
   "execution_count": 5,
   "id": "f2149efc",
   "metadata": {},
   "outputs": [
    {
     "name": "stderr",
     "output_type": "stream",
     "text": [
      "Warning message:\n",
      "\"package 'caret' was built under R version 4.3.3\"\n",
      "Loading required package: ggplot2\n",
      "\n",
      "Warning message:\n",
      "\"package 'ggplot2' was built under R version 4.3.3\"\n",
      "Loading required package: lattice\n",
      "\n",
      "Warning message:\n",
      "\"package 'lattice' was built under R version 4.3.3\"\n"
     ]
    },
    {
     "name": "stdout",
     "output_type": "stream",
     "text": [
      "[1] \"MAE: 0.330975843555788\"\n",
      "[1] \"RMSE: 0.406547000086506\"\n",
      "[1] \"R Squared: -0.979511524117144\"\n"
     ]
    }
   ],
   "source": [
    "library(caret)\n",
    "library(imager)\n",
    "\n",
    "y_true_vec <- as.vector(y_true)\n",
    "y_pred_vec <- as.vector(y_pred)\n",
    "\n",
    "mae_value <- caret::MAE(y_true_vec, y_pred_vec)\n",
    "rmse_value <- caret::RMSE(y_true_vec, y_pred_vec)\n",
    "\n",
    "y_true_vec <- as.vector(y_true)\n",
    "y_pred_vec <- as.vector(y_pred)\n",
    "\n",
    "data <- data.frame(truth = y_true_vec, prediction = y_pred_vec)\n",
    "\n",
    "model <- train(truth ~ prediction, data = data, method = \"lm\")\n",
    "\n",
    "# R Squared\n",
    "r_squared_caret <- model$results$Rsquared\n",
    "\n",
    "print(paste(\"MAE:\", mae_value))\n",
    "print(paste(\"RMSE:\", rmse_value))\n",
    "print(paste(\"R Squared:\", r_squared))\n"
   ]
  },
  {
   "cell_type": "markdown",
   "id": "4c4d053f",
   "metadata": {},
   "source": [
    "# MLmetric"
   ]
  },
  {
   "cell_type": "code",
   "execution_count": 6,
   "id": "5a15874b",
   "metadata": {},
   "outputs": [
    {
     "name": "stderr",
     "output_type": "stream",
     "text": [
      "Warning message:\n",
      "\"package 'MLmetrics' was built under R version 4.3.3\"\n",
      "\n",
      "Attaching package: 'MLmetrics'\n",
      "\n",
      "\n",
      "The following objects are masked from 'package:caret':\n",
      "\n",
      "    MAE, RMSE\n",
      "\n",
      "\n",
      "The following object is masked from 'package:base':\n",
      "\n",
      "    Recall\n",
      "\n",
      "\n"
     ]
    },
    {
     "name": "stdout",
     "output_type": "stream",
     "text": [
      "[1] \"MAE (MLmetrics): 0.330975843555788\"\n",
      "[1] \"RMSE (MLmetrics): 0.406547000086506\"\n",
      "[1] \"MSE (MLmetrics): 0.165280463279337\"\n",
      "[1] \"R-squared (MLmetrics): -0.979511524117144\"\n"
     ]
    }
   ],
   "source": [
    "mae_mlmetrics <- MAE(y_true, y_pred)\n",
    "rmse_mlmetrics <-  MLmetrics::RMSE(y_pred, y_true)\n",
    "mse_mlmetrics <-  MLmetrics::MSE(y_true, y_pred)\n",
    "r_squared_mlmetrics <- MLmetrics::R2_Score(y_pred, y_true)\n",
    "library(MLmetrics)\n",
    "print(paste(\"MAE (MLmetrics):\", mae_mlmetrics))\n",
    "print(paste(\"RMSE (MLmetrics):\", rmse_mlmetrics))\n",
    "print(paste(\"MSE (MLmetrics):\", mse_mlmetrics))\n",
    "print(paste(\"R-squared (MLmetrics):\", r_squared_mlmetrics))\n"
   ]
  },
  {
   "cell_type": "markdown",
   "id": "21508dff",
   "metadata": {},
   "source": [
    "# ModelMetrics"
   ]
  },
  {
   "cell_type": "code",
   "execution_count": 7,
   "id": "67c68822",
   "metadata": {
    "scrolled": true
   },
   "outputs": [
    {
     "name": "stdout",
     "output_type": "stream",
     "text": [
      "[1] \"MAE (ModelMetrics): 0.330975843555788\"\n",
      "[1] \"MSE (ModelMetrics): 0.165280463279337\"\n",
      "[1] \"RMSE (ModelMetrics): 0.406547000086506\"\n"
     ]
    }
   ],
   "source": [
    "mae_modelmetrics <- ModelMetrics::mae(y_true, y_pred)\n",
    "mse_modelmetrics <- ModelMetrics::mse(y_true, y_pred)\n",
    "rmse_modelmetrics <- ModelMetrics::rmse(y_true, y_pred)\n",
    "print(paste(\"MAE (ModelMetrics):\", mae_modelmetrics))\n",
    "print(paste(\"MSE (ModelMetrics):\", mse_modelmetrics))\n",
    "print(paste(\"RMSE (ModelMetrics):\", rmse_modelmetrics))"
   ]
  },
  {
   "cell_type": "markdown",
   "id": "af60ca94",
   "metadata": {},
   "source": [
    "# YardStick"
   ]
  },
  {
   "cell_type": "code",
   "execution_count": 8,
   "id": "fdc62835",
   "metadata": {},
   "outputs": [
    {
     "name": "stderr",
     "output_type": "stream",
     "text": [
      "Warning message:\n",
      "\"package 'yardstick' was built under R version 4.3.3\"\n",
      "\n",
      "Attaching package: 'yardstick'\n",
      "\n",
      "\n",
      "The following objects are masked from 'package:caret':\n",
      "\n",
      "    precision, recall, sensitivity, specificity\n",
      "\n",
      "\n",
      "Warning message:\n",
      "\"package 'dplyr' was built under R version 4.3.3\"\n",
      "\n",
      "Attaching package: 'dplyr'\n",
      "\n",
      "\n",
      "The following object is masked from 'package:imager':\n",
      "\n",
      "    where\n",
      "\n",
      "\n",
      "The following objects are masked from 'package:stats':\n",
      "\n",
      "    filter, lag\n",
      "\n",
      "\n",
      "The following objects are masked from 'package:base':\n",
      "\n",
      "    intersect, setdiff, setequal, union\n",
      "\n",
      "\n"
     ]
    },
    {
     "name": "stdout",
     "output_type": "stream",
     "text": [
      "[1] \"MAE: 0.330975843555788\"\n",
      "[1] \"RMSE: 0.406547000086506\"\n",
      "[1] \"R Squared: 2.86682209008208e-05\"\n"
     ]
    }
   ],
   "source": [
    "library(tibble)\n",
    "library(yardstick)\n",
    "library(dplyr)\n",
    "\n",
    "y_true_vec <- as.vector(y_true)\n",
    "y_pred_vec <- as.vector(y_pred)\n",
    "\n",
    "data <- tibble(truth = y_true_vec, prediction = y_pred_vec)\n",
    "\n",
    "# MAE\n",
    "mae_yardstick <- yardstick::mae(data, truth = truth, estimate = prediction) %>%\n",
    "  dplyr::pull(.estimate)\n",
    "\n",
    "# RMSE\n",
    "rmse_yardstick <- yardstick::rmse(data, truth = truth, estimate = prediction) %>%\n",
    "  dplyr::pull(.estimate)\n",
    "\n",
    "# R Squared\n",
    "r_squared_yardstick <- yardstick::rsq(data, truth = truth, estimate = prediction) %>%\n",
    "  dplyr::pull(.estimate)\n",
    "\n",
    "print(paste(\"MAE:\", mae_yardstick))\n",
    "print(paste(\"RMSE:\", rmse_yardstick))\n",
    "print(paste(\"R Squared:\", r_squared_yardstick))\n"
   ]
  },
  {
   "cell_type": "markdown",
   "id": "0fbde705",
   "metadata": {},
   "source": [
    "# Metrics"
   ]
  },
  {
   "cell_type": "code",
   "execution_count": 9,
   "id": "16a3762c",
   "metadata": {
    "scrolled": true
   },
   "outputs": [
    {
     "name": "stdout",
     "output_type": "stream",
     "text": [
      "[1] \"MAE (Metrics): 0.330975843555788\"\n",
      "[1] \"MSE (Metrics): 0.165280463279337\"\n",
      "[1] \"RMSE (Metrics): 0.406547000086506\"\n"
     ]
    }
   ],
   "source": [
    "mae_metrics <- Metrics::mae(y_true, y_pred)\n",
    "mse_metrics <- Metrics::mse(y_true, y_pred)\n",
    "rmse_metrics <- Metrics::rmse(y_true, y_pred)\n",
    "print(paste(\"MAE (Metrics):\", mae_metrics))\n",
    "print(paste(\"MSE (Metrics):\", mse_metrics))\n",
    "print(paste(\"RMSE (Metrics):\", rmse_metrics))"
   ]
  },
  {
   "cell_type": "markdown",
   "id": "751c4bd3",
   "metadata": {},
   "source": [
    "# DescTools"
   ]
  },
  {
   "cell_type": "code",
   "execution_count": 10,
   "id": "4b183530",
   "metadata": {},
   "outputs": [
    {
     "name": "stderr",
     "output_type": "stream",
     "text": [
      "Warning message:\n",
      "\"package 'DescTools' was built under R version 4.3.3\"\n",
      "\n",
      "Attaching package: 'DescTools'\n",
      "\n",
      "\n",
      "The following objects are masked from 'package:MLmetrics':\n",
      "\n",
      "    AUC, Gini, MAE, MAPE, MSE, RMSE\n",
      "\n",
      "\n",
      "The following objects are masked from 'package:caret':\n",
      "\n",
      "    MAE, RMSE\n",
      "\n",
      "\n"
     ]
    },
    {
     "name": "stdout",
     "output_type": "stream",
     "text": [
      "[1] \"MAE: 0.330975843555788\"\n",
      "[1] \"MSE: 0.165280463279337\"\n",
      "[1] \"RMSE: 0.406547000086506\"\n",
      "[1] \"R Squared: 2.86682209008211e-05\"\n"
     ]
    }
   ],
   "source": [
    "library(DescTools)\n",
    "\n",
    "y_true_vec <- as.vector(y_true)\n",
    "y_pred_vec <- as.vector(y_pred)\n",
    "\n",
    "# MAE\n",
    "mae_value <- DescTools::MAE(y_true_vec, y_pred_vec)\n",
    "print(paste(\"MAE:\", mae_value))\n",
    "\n",
    "# MSE\n",
    "mse_value <- DescTools::MSE(y_true_vec, y_pred_vec)\n",
    "print(paste(\"MSE:\", mse_value))\n",
    "\n",
    "# RMSE\n",
    "rmse_value <- DescTools::RMSE(y_true_vec, y_pred_vec)\n",
    "print(paste(\"RMSE:\", rmse_value))\n",
    "\n",
    "# R Squared\n",
    "r_squared_value <- R2(y_true_vec, y_pred_vec)\n",
    "print(paste(\"R Squared:\", r_squared_value))\n"
   ]
  },
  {
   "cell_type": "code",
   "execution_count": 11,
   "id": "47a63df3",
   "metadata": {},
   "outputs": [
    {
     "name": "stderr",
     "output_type": "stream",
     "text": [
      "Warning message in as.cimg.vector(obj, ...):\n",
      "\"Guessing input is a square 2D image\"\n",
      "Warning message in as.cimg.vector(obj, ...):\n",
      "\"Guessing input is a square 2D image\"\n",
      "Warning message in grayscale(true_img):\n",
      "\"Image appears to already be in grayscale mode\"\n",
      "Warning message in grayscale(pred_img):\n",
      "\"Image appears to already be in grayscale mode\"\n"
     ]
    },
    {
     "name": "stdout",
     "output_type": "stream",
     "text": [
      "[1] \"Manual SSIM: 0.0107124246044555\"\n"
     ]
    }
   ],
   "source": [
    "library(imager)\n",
    "true_img <- as.cimg(y_true)\n",
    "pred_img <- as.cimg(y_pred)\n",
    "true_img <- grayscale(true_img)\n",
    "pred_img <- grayscale(pred_img)\n",
    "compute_ssim <- function(image1, image2) {\n",
    "  \n",
    "  image1 <- as.array(image1)\n",
    "  image2 <- as.array(image2)\n",
    "  \n",
    "  mu1 <- mean(image1)\n",
    "  mu2 <- mean(image2)\n",
    "  sigma1_sq <- var(image1)\n",
    "  sigma2_sq <- var(image2)\n",
    "  sigma12 <- cov(as.vector(image1), as.vector(image2))  \n",
    "  \n",
    "  k1 <- 0.01\n",
    "  k2 <- 0.03\n",
    "  L <- 1.0  \n",
    "  C1 <- (k1 * L) ^ 2\n",
    "  C2 <- (k2 * L) ^ 2\n",
    "  \n",
    "  ssim <- ((2 * mu1 * mu2 + C1) * (2 * sigma12 + C2)) / ((mu1^2 + mu2^2 + C1) * (sigma1_sq + sigma2_sq + C2))\n",
    "  return(ssim)\n",
    "}\n",
    "\n",
    "\n",
    "ssim_value <- compute_ssim(true_img, pred_img)\n",
    "print(paste(\"Manual SSIM:\", ssim_value))\n"
   ]
  },
  {
   "cell_type": "code",
   "execution_count": 34,
   "id": "30036eca",
   "metadata": {},
   "outputs": [
    {
     "name": "stdout",
     "output_type": "stream",
     "text": [
      "[1] 0.01207727\n"
     ]
    }
   ],
   "source": [
    "mean_var_cov <- function(image1, image2, window_size) {\n",
    "  n <- nrow(image1)\n",
    "  m <- ncol(image1)\n",
    "  \n",
    "  half_window <- floor(window_size / 2)\n",
    "  \n",
    "  mu1 <- matrix(0, nrow = n, ncol = m)\n",
    "  mu2 <- matrix(0, nrow = n, ncol = m)\n",
    "  sigma1_sq <- matrix(0, nrow = n, ncol = m)\n",
    "  sigma2_sq <- matrix(0, nrow = n, ncol = m)\n",
    "  sigma12 <- matrix(0, nrow = n, ncol = m)\n",
    "  \n",
    "  for (i in 1:n) {\n",
    "    for (j in 1:m) {\n",
    "      row_start <- max(1, i - half_window)\n",
    "      row_end <- min(n, i + half_window)\n",
    "      col_start <- max(1, j - half_window)\n",
    "      col_end <- min(m, j + half_window)\n",
    "      \n",
    "      window1 <- image1[row_start:row_end, col_start:col_end]\n",
    "      window2 <- image2[row_start:row_end, col_start:col_end]\n",
    "      \n",
    "      mu1[i, j] <- mean(window1)\n",
    "      mu2[i, j] <- mean(window2)\n",
    "      sigma1_sq[i, j] <- var(as.vector(window1))\n",
    "      sigma2_sq[i, j] <- var(as.vector(window2))\n",
    "      sigma12[i, j] <- mean(window1 * window2) - mu1[i, j] * mu2[i, j]\n",
    "    }\n",
    "  }\n",
    "  \n",
    "  return(list(mu1 = mu1, mu2 = mu2, sigma1_sq = sigma1_sq, sigma2_sq = sigma2_sq, sigma12 = sigma12))\n",
    "}\n",
    "\n",
    "ssim <- function(x, y, window_size = 8, K1 = 0.01, K2 = 0.03, L = 1) {\n",
    "  stats <- mean_var_cov(x, y, window_size)\n",
    "  \n",
    "  C1 <- (K1 * L)^2\n",
    "  C2 <- (K2 * L)^2\n",
    "  \n",
    "  ssim_map <- ((2 * stats$mu1 * stats$mu2 + C1) * (2 * stats$sigma12 + C2)) / \n",
    "              ((stats$mu1^2 + stats$mu2^2 + C1) * (stats$sigma1_sq + stats$sigma2_sq + C2))\n",
    "  \n",
    "  return(mean(ssim_map, na.rm = TRUE))\n",
    "}\n",
    "\n",
    "\n",
    "data <- readxl::read_excel(\"C:/Users/SADEGHI/Desktop/I2I.xlsx\")\n",
    "data_length <- length(data$y_true)\n",
    "size <- sqrt(data_length)  \n",
    "y_true <- matrix(data$y_true, nrow = size, byrow = TRUE)\n",
    "y_pred <- matrix(data$y_pred, nrow = size, byrow = TRUE)\n",
    "ssim_value <- ssim(y_true, y_pred)\n",
    "print(ssim_value)\n"
   ]
  },
  {
   "cell_type": "code",
   "execution_count": null,
   "id": "2130d956",
   "metadata": {},
   "outputs": [],
   "source": []
  }
 ],
 "metadata": {
  "kernelspec": {
   "display_name": "R",
   "language": "R",
   "name": "ir"
  },
  "language_info": {
   "codemirror_mode": "r",
   "file_extension": ".r",
   "mimetype": "text/x-r-source",
   "name": "R",
   "pygments_lexer": "r",
   "version": "4.3.0"
  }
 },
 "nbformat": 4,
 "nbformat_minor": 5
}
