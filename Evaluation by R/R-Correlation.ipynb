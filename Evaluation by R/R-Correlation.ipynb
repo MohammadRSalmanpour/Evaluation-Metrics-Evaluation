{
 "cells": [
  {
   "cell_type": "code",
   "execution_count": 29,
   "id": "4a296b2d",
   "metadata": {},
   "outputs": [],
   "source": [
    "options(digits = 17)"
   ]
  },
  {
   "cell_type": "code",
   "execution_count": 30,
   "id": "2a7451bb",
   "metadata": {},
   "outputs": [],
   "source": [
    "library(readxl)\n",
    "library(infotheo)\n",
    "library(energy)\n",
    "library(WRS2)\n",
    "library(psych)\n",
    "library(Hmisc)\n",
    "library(corrr)\n",
    "library(GGally)\n",
    "library(gtools)\n",
    "library(entropy)\n",
    "library(robustbase)\n",
    "library(MASS)\n",
    "library(biwt)\n",
    "library(lavaan)\n",
    "library(WRS2)"
   ]
  },
  {
   "cell_type": "code",
   "execution_count": 31,
   "id": "53e37c8d",
   "metadata": {},
   "outputs": [
    {
     "data": {
      "text/html": [
       "<table class=\"dataframe\">\n",
       "<caption>A tibble: 6 × 2</caption>\n",
       "<thead>\n",
       "\t<tr><th scope=col>x</th><th scope=col>y</th></tr>\n",
       "\t<tr><th scope=col>&lt;dbl&gt;</th><th scope=col>&lt;dbl&gt;</th></tr>\n",
       "</thead>\n",
       "<tbody>\n",
       "\t<tr><td>0.37454011884736249</td><td>0.6420316461542877606</td></tr>\n",
       "\t<tr><td>0.95071430640991617</td><td>0.0841399649950488326</td></tr>\n",
       "\t<tr><td>0.73199394181140509</td><td>0.1616287140946137957</td></tr>\n",
       "\t<tr><td>0.59865848419703660</td><td>0.8985541885270792450</td></tr>\n",
       "\t<tr><td>0.15601864044243649</td><td>0.6064290596595899308</td></tr>\n",
       "\t<tr><td>0.15599452033620259</td><td>0.0091970516166296479</td></tr>\n",
       "</tbody>\n",
       "</table>\n"
      ],
      "text/latex": [
       "A tibble: 6 × 2\n",
       "\\begin{tabular}{ll}\n",
       " x & y\\\\\n",
       " <dbl> & <dbl>\\\\\n",
       "\\hline\n",
       "\t 0.37454011884736249 & 0.6420316461542877606\\\\\n",
       "\t 0.95071430640991617 & 0.0841399649950488326\\\\\n",
       "\t 0.73199394181140509 & 0.1616287140946137957\\\\\n",
       "\t 0.59865848419703660 & 0.8985541885270792450\\\\\n",
       "\t 0.15601864044243649 & 0.6064290596595899308\\\\\n",
       "\t 0.15599452033620259 & 0.0091970516166296479\\\\\n",
       "\\end{tabular}\n"
      ],
      "text/markdown": [
       "\n",
       "A tibble: 6 × 2\n",
       "\n",
       "| x &lt;dbl&gt; | y &lt;dbl&gt; |\n",
       "|---|---|\n",
       "| 0.37454011884736249 | 0.6420316461542877606 |\n",
       "| 0.95071430640991617 | 0.0841399649950488326 |\n",
       "| 0.73199394181140509 | 0.1616287140946137957 |\n",
       "| 0.59865848419703660 | 0.8985541885270792450 |\n",
       "| 0.15601864044243649 | 0.6064290596595899308 |\n",
       "| 0.15599452033620259 | 0.0091970516166296479 |\n",
       "\n"
      ],
      "text/plain": [
       "  x                   y                    \n",
       "1 0.37454011884736249 0.6420316461542877606\n",
       "2 0.95071430640991617 0.0841399649950488326\n",
       "3 0.73199394181140509 0.1616287140946137957\n",
       "4 0.59865848419703660 0.8985541885270792450\n",
       "5 0.15601864044243649 0.6064290596595899308\n",
       "6 0.15599452033620259 0.0091970516166296479"
      ]
     },
     "metadata": {},
     "output_type": "display_data"
    }
   ],
   "source": [
    "data <- read_excel(\"C:/Users/SADEGHI/Desktop/Corr_output.xlsx\", sheet=\"random\")\n",
    "x <- data$x\n",
    "y <- data$y\n",
    "head(data)"
   ]
  },
  {
   "cell_type": "code",
   "execution_count": 32,
   "id": "704643ef",
   "metadata": {},
   "outputs": [
    {
     "name": "stdout",
     "output_type": "stream",
     "text": [
      "Pearson (base r): -0.026887114277192Spearman (base r): -0.031476786919673Kendaalls tau (base r): -0.022512562814070"
     ]
    }
   ],
   "source": [
    "## Base R \n",
    "\n",
    "# Pearson\n",
    "correlation <- cor(x, y, method = \"pearson\")\n",
    "formatted_correlation <- sprintf(\"%.15f\", correlation)\n",
    "cat(\"Pearson (base r):\", formatted_correlation)\n",
    "\n",
    "# Spearman\n",
    "result = cor(x, y, method = \"spearman\")\n",
    "cat(\"Spearman (base r):\", sprintf(\"%.15f\", result))\n",
    "\n",
    "# Kendall\n",
    "result1 = cor(x, y, method = \"kendall\") \n",
    "cat(\"Kendaalls tau (base r):\", sprintf(\"%.15f\", result1))"
   ]
  },
  {
   "cell_type": "code",
   "execution_count": 33,
   "id": "c82428ce",
   "metadata": {},
   "outputs": [
    {
     "name": "stdout",
     "output_type": "stream",
     "text": [
      "Mutual Information: 5.298317366548036"
     ]
    }
   ],
   "source": [
    "## Infotheo Library\n",
    "x1 <- as.factor(data$x)\n",
    "y1 <- as.factor(data$y)\n",
    "mi <- mutinformation(x1, y1)\n",
    "cat(\"Mutual Information:\", sprintf(\"%.15f\", mi))"
   ]
  },
  {
   "cell_type": "code",
   "execution_count": 34,
   "id": "63db16bc",
   "metadata": {},
   "outputs": [
    {
     "name": "stdout",
     "output_type": "stream",
     "text": [
      "Distance Correlation: 0.091611781865396"
     ]
    }
   ],
   "source": [
    "## Energy Library \n",
    "distance_corr <- dcor(x, y)\n",
    "cat(\"Distance Correlation:\", sprintf(\"%.15f\", distance_corr))"
   ]
  },
  {
   "cell_type": "code",
   "execution_count": 35,
   "id": "bb009a88",
   "metadata": {},
   "outputs": [
    {
     "name": "stdout",
     "output_type": "stream",
     "text": [
      "Pearson Correlation (psych):  -0.026887114277192 \n",
      "Spearman Correlation (psych):  -0.031476786919673 \n",
      "Kendall's Tau (psych):  -0.022512562814070 \n"
     ]
    }
   ],
   "source": [
    "##  Psych Library\n",
    "pearson_corr <- corr.test(x, y, method = \"pearson\")$r\n",
    "cat(\"Pearson Correlation (psych): \", sprintf(\"%.15f\", pearson_corr), \"\\n\")\n",
    "\n",
    "spearman_corr_psych <- corr.test(x, y, method = \"spearman\")$r\n",
    "cat(\"Spearman Correlation (psych): \",  sprintf(\"%.15f\", spearman_corr_psych), \"\\n\")\n",
    "\n",
    "kendall_tau_psych <- corr.test(x, y, method = \"kendall\")$r\n",
    "cat(\"Kendall's Tau (psych): \", sprintf(\"%.15f\", kendall_tau_psych), \"\\n\")"
   ]
  },
  {
   "cell_type": "code",
   "execution_count": 36,
   "id": "be2161a8",
   "metadata": {},
   "outputs": [
    {
     "name": "stdout",
     "output_type": "stream",
     "text": [
      "Pearson Correlation (Hmisc):  1.000000000000000 -0.026887114277191 -0.026887114277191 1.000000000000000 \n",
      "Spearman Correlation (Hmisc):  -0.031476786919673 \n"
     ]
    }
   ],
   "source": [
    "## Hmisc \n",
    "pearson_corr <- rcorr(x, y, type = \"pearson\")$r\n",
    "cat(\"Pearson Correlation (Hmisc): \",sprintf(\"%.15f\", pearson_corr), \"\\n\")\n",
    "\n",
    "spearman_corr_hmisc <- rcorr(x, y, type = \"spearman\")$r\n",
    "cat(\"Spearman Correlation (Hmisc): \", sprintf(\"%.15f\", spearman_corr_hmisc[1, 2]), \"\\n\")"
   ]
  },
  {
   "cell_type": "code",
   "execution_count": 37,
   "id": "109ba79e",
   "metadata": {},
   "outputs": [
    {
     "data": {
      "text/html": [
       "'Mutual Information (entropy):5.298317366548036'"
      ],
      "text/latex": [
       "'Mutual Information (entropy):5.298317366548036'"
      ],
      "text/markdown": [
       "'Mutual Information (entropy):5.298317366548036'"
      ],
      "text/plain": [
       "[1] \"Mutual Information (entropy):5.298317366548036\""
      ]
     },
     "metadata": {},
     "output_type": "display_data"
    }
   ],
   "source": [
    "## Entropy Library\n",
    "\n",
    "contingency_table <- table(x, y)\n",
    "Hx <- entropy(rowSums(contingency_table))\n",
    "Hy <- entropy(colSums(contingency_table))\n",
    "Hxy <- entropy(contingency_table)\n",
    "mutual_info_entropy <- Hx + Hy - Hxy\n",
    "sprintf(\"Mutual Information (entropy):%.15f\", mutual_info_entropy)\n"
   ]
  },
  {
   "cell_type": "code",
   "execution_count": 38,
   "id": "b43d90c8",
   "metadata": {
    "scrolled": true
   },
   "outputs": [
    {
     "data": {
      "text/html": [
       "<table class=\"dataframe\">\n",
       "<caption>A tibble: 6 × 2</caption>\n",
       "<thead>\n",
       "\t<tr><th scope=col>x</th><th scope=col>y</th></tr>\n",
       "\t<tr><th scope=col>&lt;dbl&gt;</th><th scope=col>&lt;dbl&gt;</th></tr>\n",
       "</thead>\n",
       "<tbody>\n",
       "\t<tr><td>16173.2230716582599</td><td>12660.9705146827600</td></tr>\n",
       "\t<tr><td>13566.4321031016898</td><td> 8881.8461121375203</td></tr>\n",
       "\t<tr><td>11371.9904128502694</td><td> 3427.0743488775502</td></tr>\n",
       "\t<tr><td> 6137.2835313920859</td><td> 4246.5893397215150</td></tr>\n",
       "\t<tr><td>14690.2478225125506</td><td>10297.5608841455505</td></tr>\n",
       "\t<tr><td>23692.4858637789002</td><td>20432.2207972636497</td></tr>\n",
       "</tbody>\n",
       "</table>\n"
      ],
      "text/latex": [
       "A tibble: 6 × 2\n",
       "\\begin{tabular}{ll}\n",
       " x & y\\\\\n",
       " <dbl> & <dbl>\\\\\n",
       "\\hline\n",
       "\t 16173.2230716582599 & 12660.9705146827600\\\\\n",
       "\t 13566.4321031016898 &  8881.8461121375203\\\\\n",
       "\t 11371.9904128502694 &  3427.0743488775502\\\\\n",
       "\t  6137.2835313920859 &  4246.5893397215150\\\\\n",
       "\t 14690.2478225125506 & 10297.5608841455505\\\\\n",
       "\t 23692.4858637789002 & 20432.2207972636497\\\\\n",
       "\\end{tabular}\n"
      ],
      "text/markdown": [
       "\n",
       "A tibble: 6 × 2\n",
       "\n",
       "| x &lt;dbl&gt; | y &lt;dbl&gt; |\n",
       "|---|---|\n",
       "| 16173.2230716582599 | 12660.9705146827600 |\n",
       "| 13566.4321031016898 |  8881.8461121375203 |\n",
       "| 11371.9904128502694 |  3427.0743488775502 |\n",
       "|  6137.2835313920859 |  4246.5893397215150 |\n",
       "| 14690.2478225125506 | 10297.5608841455505 |\n",
       "| 23692.4858637789002 | 20432.2207972636497 |\n",
       "\n"
      ],
      "text/plain": [
       "  x                   y                  \n",
       "1 16173.2230716582599 12660.9705146827600\n",
       "2 13566.4321031016898  8881.8461121375203\n",
       "3 11371.9904128502694  3427.0743488775502\n",
       "4  6137.2835313920859  4246.5893397215150\n",
       "5 14690.2478225125506 10297.5608841455505\n",
       "6 23692.4858637789002 20432.2207972636497"
      ]
     },
     "metadata": {},
     "output_type": "display_data"
    }
   ],
   "source": [
    "data <- read_excel(\"C:/Users/SADEGHI/Desktop/Corr_output.xlsx\", sheet=\"area_mesh-ngl_dcnu\")\n",
    "x <- data$x\n",
    "y <- data$y\n",
    "head(data)"
   ]
  },
  {
   "cell_type": "code",
   "execution_count": 39,
   "id": "16696664",
   "metadata": {},
   "outputs": [
    {
     "name": "stdout",
     "output_type": "stream",
     "text": [
      "Pearson (base r): 0.917160040230187Spearman (base r): 0.919510741172843Kendaalls tau (base r): 0.765681563120486"
     ]
    }
   ],
   "source": [
    "## Base R \n",
    "\n",
    "# Pearson\n",
    "correlation <- cor(x, y, method = \"pearson\")\n",
    "formatted_correlation <- sprintf(\"%.15f\", correlation)\n",
    "cat(\"Pearson (base r):\", formatted_correlation)\n",
    "\n",
    "# Spearman\n",
    "result = cor(x, y, method = \"spearman\")\n",
    "cat(\"Spearman (base r):\", sprintf(\"%.15f\", result))\n",
    "\n",
    "# Kendall\n",
    "result1 = cor(x, y, method = \"kendall\") \n",
    "cat(\"Kendaalls tau (base r):\", sprintf(\"%.15f\", result1))"
   ]
  },
  {
   "cell_type": "code",
   "execution_count": 40,
   "id": "3d6ea6ea",
   "metadata": {},
   "outputs": [
    {
     "name": "stdout",
     "output_type": "stream",
     "text": [
      "Mutual Information: 6.380122536899765"
     ]
    }
   ],
   "source": [
    "## Infotheo Library\n",
    "x1 <- as.factor(data$x)\n",
    "y1 <- as.factor(data$y)\n",
    "mi <- mutinformation(x1, y1)\n",
    "cat(\"Mutual Information:\", sprintf(\"%.15f\", mi))"
   ]
  },
  {
   "cell_type": "code",
   "execution_count": 41,
   "id": "bdf865cf",
   "metadata": {},
   "outputs": [
    {
     "name": "stdout",
     "output_type": "stream",
     "text": [
      "Distance Correlation: 0.904647390011801"
     ]
    }
   ],
   "source": [
    "## Energy Library \n",
    "distance_corr <- dcor(x, y)\n",
    "cat(\"Distance Correlation:\", sprintf(\"%.15f\", distance_corr))"
   ]
  },
  {
   "cell_type": "code",
   "execution_count": 42,
   "id": "59ca3afe",
   "metadata": {},
   "outputs": [
    {
     "name": "stdout",
     "output_type": "stream",
     "text": [
      "Pearson Correlation (psych):  0.917160040230187 \n",
      "Spearman Correlation (psych):  0.919510741172843 \n",
      "Kendall's Tau (psych):  0.765681563120486 \n"
     ]
    }
   ],
   "source": [
    "##  Psych Library\n",
    "pearson_corr <- corr.test(x, y, method = \"pearson\")$r\n",
    "cat(\"Pearson Correlation (psych): \", sprintf(\"%.15f\", pearson_corr), \"\\n\")\n",
    "\n",
    "spearman_corr_psych <- corr.test(x, y, method = \"spearman\")$r\n",
    "cat(\"Spearman Correlation (psych): \",  sprintf(\"%.15f\", spearman_corr_psych), \"\\n\")\n",
    "\n",
    "kendall_tau_psych <- corr.test(x, y, method = \"kendall\")$r\n",
    "cat(\"Kendall's Tau (psych): \", sprintf(\"%.15f\", kendall_tau_psych), \"\\n\")"
   ]
  },
  {
   "cell_type": "code",
   "execution_count": 43,
   "id": "7083f3cf",
   "metadata": {},
   "outputs": [
    {
     "name": "stdout",
     "output_type": "stream",
     "text": [
      "Pearson Correlation (Hmisc):  1.000000000000000 0.917160040230187 0.917160040230187 1.000000000000000 \n",
      "Spearman Correlation (Hmisc):  0.919510741172843 \n"
     ]
    }
   ],
   "source": [
    "## Hmisc \n",
    "pearson_corr <- rcorr(x, y, type = \"pearson\")$r\n",
    "cat(\"Pearson Correlation (Hmisc): \",sprintf(\"%.15f\", pearson_corr), \"\\n\")\n",
    "\n",
    "spearman_corr_hmisc <- rcorr(x, y, type = \"spearman\")$r\n",
    "cat(\"Spearman Correlation (Hmisc): \", sprintf(\"%.15f\", spearman_corr_hmisc[1, 2]), \"\\n\")"
   ]
  },
  {
   "cell_type": "code",
   "execution_count": 44,
   "id": "1b1ea6f6",
   "metadata": {},
   "outputs": [
    {
     "data": {
      "text/html": [
       "'Mutual Information (entropy):6.380122536899765'"
      ],
      "text/latex": [
       "'Mutual Information (entropy):6.380122536899765'"
      ],
      "text/markdown": [
       "'Mutual Information (entropy):6.380122536899765'"
      ],
      "text/plain": [
       "[1] \"Mutual Information (entropy):6.380122536899765\""
      ]
     },
     "metadata": {},
     "output_type": "display_data"
    }
   ],
   "source": [
    "## Entropy Library\n",
    "\n",
    "contingency_table <- table(x, y)\n",
    "Hx <- entropy(rowSums(contingency_table))\n",
    "Hy <- entropy(colSums(contingency_table))\n",
    "Hxy <- entropy(contingency_table)\n",
    "mutual_info_entropy <- Hx + Hy - Hxy\n",
    "sprintf(\"Mutual Information (entropy):%.15f\", mutual_info_entropy)\n"
   ]
  },
  {
   "cell_type": "code",
   "execution_count": 47,
   "id": "f1faf3f5",
   "metadata": {},
   "outputs": [
    {
     "data": {
      "text/html": [
       "<table class=\"dataframe\">\n",
       "<caption>A matrix: 2 × 2 of type dbl</caption>\n",
       "<thead>\n",
       "\t<tr><th></th><th scope=col>x</th><th scope=col>y</th></tr>\n",
       "</thead>\n",
       "<tbody>\n",
       "\t<tr><th scope=row>x</th><td>1.00000000000000000</td><td>0.91716004023018693</td></tr>\n",
       "\t<tr><th scope=row>y</th><td>0.91716004023018693</td><td>1.00000000000000000</td></tr>\n",
       "</tbody>\n",
       "</table>\n"
      ],
      "text/latex": [
       "A matrix: 2 × 2 of type dbl\n",
       "\\begin{tabular}{r|ll}\n",
       "  & x & y\\\\\n",
       "\\hline\n",
       "\tx & 1.00000000000000000 & 0.91716004023018693\\\\\n",
       "\ty & 0.91716004023018693 & 1.00000000000000000\\\\\n",
       "\\end{tabular}\n"
      ],
      "text/markdown": [
       "\n",
       "A matrix: 2 × 2 of type dbl\n",
       "\n",
       "| <!--/--> | x | y |\n",
       "|---|---|---|\n",
       "| x | 1.00000000000000000 | 0.91716004023018693 |\n",
       "| y | 0.91716004023018693 | 1.00000000000000000 |\n",
       "\n"
      ],
      "text/plain": [
       "  x                   y                  \n",
       "x 1.00000000000000000 0.91716004023018693\n",
       "y 0.91716004023018693 1.00000000000000000"
      ]
     },
     "metadata": {},
     "output_type": "display_data"
    },
    {
     "data": {
      "text/html": [
       "<table class=\"dataframe\">\n",
       "<caption>A matrix: 2 × 2 of type dbl</caption>\n",
       "<thead>\n",
       "\t<tr><th></th><th scope=col>x</th><th scope=col>y</th></tr>\n",
       "</thead>\n",
       "<tbody>\n",
       "\t<tr><th scope=row>x</th><td>1.00000000000000000</td><td>0.91951074117284293</td></tr>\n",
       "\t<tr><th scope=row>y</th><td>0.91951074117284293</td><td>1.00000000000000000</td></tr>\n",
       "</tbody>\n",
       "</table>\n"
      ],
      "text/latex": [
       "A matrix: 2 × 2 of type dbl\n",
       "\\begin{tabular}{r|ll}\n",
       "  & x & y\\\\\n",
       "\\hline\n",
       "\tx & 1.00000000000000000 & 0.91951074117284293\\\\\n",
       "\ty & 0.91951074117284293 & 1.00000000000000000\\\\\n",
       "\\end{tabular}\n"
      ],
      "text/markdown": [
       "\n",
       "A matrix: 2 × 2 of type dbl\n",
       "\n",
       "| <!--/--> | x | y |\n",
       "|---|---|---|\n",
       "| x | 1.00000000000000000 | 0.91951074117284293 |\n",
       "| y | 0.91951074117284293 | 1.00000000000000000 |\n",
       "\n"
      ],
      "text/plain": [
       "  x                   y                  \n",
       "x 1.00000000000000000 0.91951074117284293\n",
       "y 0.91951074117284293 1.00000000000000000"
      ]
     },
     "metadata": {},
     "output_type": "display_data"
    },
    {
     "data": {
      "text/html": [
       "<table class=\"dataframe\">\n",
       "<caption>A matrix: 2 × 2 of type dbl</caption>\n",
       "<thead>\n",
       "\t<tr><th></th><th scope=col>x</th><th scope=col>y</th></tr>\n",
       "</thead>\n",
       "<tbody>\n",
       "\t<tr><th scope=row>x</th><td>1.00000000000000000</td><td>0.76568156312048563</td></tr>\n",
       "\t<tr><th scope=row>y</th><td>0.76568156312048563</td><td>1.00000000000000000</td></tr>\n",
       "</tbody>\n",
       "</table>\n"
      ],
      "text/latex": [
       "A matrix: 2 × 2 of type dbl\n",
       "\\begin{tabular}{r|ll}\n",
       "  & x & y\\\\\n",
       "\\hline\n",
       "\tx & 1.00000000000000000 & 0.76568156312048563\\\\\n",
       "\ty & 0.76568156312048563 & 1.00000000000000000\\\\\n",
       "\\end{tabular}\n"
      ],
      "text/markdown": [
       "\n",
       "A matrix: 2 × 2 of type dbl\n",
       "\n",
       "| <!--/--> | x | y |\n",
       "|---|---|---|\n",
       "| x | 1.00000000000000000 | 0.76568156312048563 |\n",
       "| y | 0.76568156312048563 | 1.00000000000000000 |\n",
       "\n"
      ],
      "text/plain": [
       "  x                   y                  \n",
       "x 1.00000000000000000 0.76568156312048563\n",
       "y 0.76568156312048563 1.00000000000000000"
      ]
     },
     "metadata": {},
     "output_type": "display_data"
    }
   ],
   "source": [
    "##corrplot\n",
    "pearson_corr <- cor(data, method = \"pearson\")\n",
    "spearman_corr <- cor(data, method = \"spearman\")\n",
    "kendall_corr <- cor(data, method = \"kendall\")\n",
    "pearson_corr\n",
    "spearman_corr\n",
    "kendall_corr"
   ]
  },
  {
   "cell_type": "code",
   "execution_count": 49,
   "id": "25353956",
   "metadata": {},
   "outputs": [
    {
     "data": {
      "text/html": [
       "<table class=\"dataframe\">\n",
       "<caption>A tibble: 6 × 2</caption>\n",
       "<thead>\n",
       "\t<tr><th scope=col>x</th><th scope=col>y</th></tr>\n",
       "\t<tr><th scope=col>&lt;dbl&gt;</th><th scope=col>&lt;dbl&gt;</th></tr>\n",
       "</thead>\n",
       "<tbody>\n",
       "\t<tr><td>5115.6533790562899</td><td> 7775.5752257446202</td></tr>\n",
       "\t<tr><td>6260.7072455618927</td><td> 7574.0881797734764</td></tr>\n",
       "\t<tr><td>3970.1589789690929</td><td>11203.2880765773207</td></tr>\n",
       "\t<tr><td>2025.7895193891300</td><td> 2242.9596346758499</td></tr>\n",
       "\t<tr><td>7597.8865593668907</td><td> 8607.1395184441244</td></tr>\n",
       "\t<tr><td>5445.6941182205574</td><td>19260.2391181596213</td></tr>\n",
       "</tbody>\n",
       "</table>\n"
      ],
      "text/latex": [
       "A tibble: 6 × 2\n",
       "\\begin{tabular}{ll}\n",
       " x & y\\\\\n",
       " <dbl> & <dbl>\\\\\n",
       "\\hline\n",
       "\t 5115.6533790562899 &  7775.5752257446202\\\\\n",
       "\t 6260.7072455618927 &  7574.0881797734764\\\\\n",
       "\t 3970.1589789690929 & 11203.2880765773207\\\\\n",
       "\t 2025.7895193891300 &  2242.9596346758499\\\\\n",
       "\t 7597.8865593668907 &  8607.1395184441244\\\\\n",
       "\t 5445.6941182205574 & 19260.2391181596213\\\\\n",
       "\\end{tabular}\n"
      ],
      "text/markdown": [
       "\n",
       "A tibble: 6 × 2\n",
       "\n",
       "| x &lt;dbl&gt; | y &lt;dbl&gt; |\n",
       "|---|---|\n",
       "| 5115.6533790562899 |  7775.5752257446202 |\n",
       "| 6260.7072455618927 |  7574.0881797734764 |\n",
       "| 3970.1589789690929 | 11203.2880765773207 |\n",
       "| 2025.7895193891300 |  2242.9596346758499 |\n",
       "| 7597.8865593668907 |  8607.1395184441244 |\n",
       "| 5445.6941182205574 | 19260.2391181596213 |\n",
       "\n"
      ],
      "text/plain": [
       "  x                  y                  \n",
       "1 5115.6533790562899  7775.5752257446202\n",
       "2 6260.7072455618927  7574.0881797734764\n",
       "3 3970.1589789690929 11203.2880765773207\n",
       "4 2025.7895193891300  2242.9596346758499\n",
       "5 7597.8865593668907  8607.1395184441244\n",
       "6 5445.6941182205574 19260.2391181596213"
      ]
     },
     "metadata": {},
     "output_type": "display_data"
    }
   ],
   "source": [
    "data <- read_excel(\"C:/Users/SADEGHI/Desktop/Corr_output.xlsx\", sheet=\"ngl_hdhge-ngl_glnu\")\n",
    "x <- data$x\n",
    "y <- data$y\n",
    "head(data)"
   ]
  },
  {
   "cell_type": "code",
   "execution_count": 50,
   "id": "11ff528e",
   "metadata": {},
   "outputs": [
    {
     "name": "stdout",
     "output_type": "stream",
     "text": [
      "Pearson (base r): -0.035932429215739Spearman (base r): -0.004283673244914Kendaalls tau (base r): -0.001525135967310"
     ]
    }
   ],
   "source": [
    "## Base R \n",
    "\n",
    "# Pearson\n",
    "correlation <- cor(x, y, method = \"pearson\")\n",
    "formatted_correlation <- sprintf(\"%.15f\", correlation)\n",
    "cat(\"Pearson (base r):\", formatted_correlation)\n",
    "\n",
    "# Spearman\n",
    "result = cor(x, y, method = \"spearman\")\n",
    "cat(\"Spearman (base r):\", sprintf(\"%.15f\", result))\n",
    "\n",
    "# Kendall\n",
    "result1 = cor(x, y, method = \"kendall\") \n",
    "cat(\"Kendaalls tau (base r):\", sprintf(\"%.15f\", result1))"
   ]
  },
  {
   "cell_type": "code",
   "execution_count": 51,
   "id": "f62daa4d",
   "metadata": {},
   "outputs": [
    {
     "name": "stdout",
     "output_type": "stream",
     "text": [
      "Mutual Information: 6.380122536899765"
     ]
    }
   ],
   "source": [
    "## Infotheo Library\n",
    "x1 <- as.factor(data$x)\n",
    "y1 <- as.factor(data$y)\n",
    "mi <- mutinformation(x1, y1)\n",
    "cat(\"Mutual Information:\", sprintf(\"%.15f\", mi))"
   ]
  },
  {
   "cell_type": "code",
   "execution_count": 52,
   "id": "5a5a57ed",
   "metadata": {},
   "outputs": [
    {
     "name": "stdout",
     "output_type": "stream",
     "text": [
      "Distance Correlation: 0.107205965379640"
     ]
    }
   ],
   "source": [
    "## Energy Library \n",
    "distance_corr <- dcor(x, y)\n",
    "cat(\"Distance Correlation:\", sprintf(\"%.15f\", distance_corr))"
   ]
  },
  {
   "cell_type": "code",
   "execution_count": 53,
   "id": "74f8f8a5",
   "metadata": {},
   "outputs": [
    {
     "name": "stdout",
     "output_type": "stream",
     "text": [
      "Pearson Correlation (psych):  -0.035932429215739 \n",
      "Spearman Correlation (psych):  -0.004283673244914 \n",
      "Kendall's Tau (psych):  -0.001525135967310 \n"
     ]
    }
   ],
   "source": [
    "##  Psych Library\n",
    "pearson_corr <- corr.test(x, y, method = \"pearson\")$r\n",
    "cat(\"Pearson Correlation (psych): \", sprintf(\"%.15f\", pearson_corr), \"\\n\")\n",
    "\n",
    "spearman_corr_psych <- corr.test(x, y, method = \"spearman\")$r\n",
    "cat(\"Spearman Correlation (psych): \",  sprintf(\"%.15f\", spearman_corr_psych), \"\\n\")\n",
    "\n",
    "kendall_tau_psych <- corr.test(x, y, method = \"kendall\")$r\n",
    "cat(\"Kendall's Tau (psych): \", sprintf(\"%.15f\", kendall_tau_psych), \"\\n\")"
   ]
  },
  {
   "cell_type": "code",
   "execution_count": 54,
   "id": "d39e926d",
   "metadata": {},
   "outputs": [
    {
     "name": "stdout",
     "output_type": "stream",
     "text": [
      "Pearson Correlation (Hmisc):  1.000000000000000 -0.035932429215741 -0.035932429215741 1.000000000000000 \n",
      "Spearman Correlation (Hmisc):  -0.004283673244914 \n"
     ]
    }
   ],
   "source": [
    "## Hmisc \n",
    "pearson_corr <- rcorr(x, y, type = \"pearson\")$r\n",
    "cat(\"Pearson Correlation (Hmisc): \",sprintf(\"%.15f\", pearson_corr), \"\\n\")\n",
    "\n",
    "spearman_corr_hmisc <- rcorr(x, y, type = \"spearman\")$r\n",
    "cat(\"Spearman Correlation (Hmisc): \", sprintf(\"%.15f\", spearman_corr_hmisc[1, 2]), \"\\n\")"
   ]
  },
  {
   "cell_type": "code",
   "execution_count": 55,
   "id": "4bb31ac3",
   "metadata": {},
   "outputs": [
    {
     "data": {
      "text/html": [
       "'Mutual Information (entropy):6.380122536899765'"
      ],
      "text/latex": [
       "'Mutual Information (entropy):6.380122536899765'"
      ],
      "text/markdown": [
       "'Mutual Information (entropy):6.380122536899765'"
      ],
      "text/plain": [
       "[1] \"Mutual Information (entropy):6.380122536899765\""
      ]
     },
     "metadata": {},
     "output_type": "display_data"
    }
   ],
   "source": [
    "## Entropy Library\n",
    "\n",
    "contingency_table <- table(x, y)\n",
    "Hx <- entropy(rowSums(contingency_table))\n",
    "Hy <- entropy(colSums(contingency_table))\n",
    "Hxy <- entropy(contingency_table)\n",
    "mutual_info_entropy <- Hx + Hy - Hxy\n",
    "sprintf(\"Mutual Information (entropy):%.15f\", mutual_info_entropy)\n"
   ]
  },
  {
   "cell_type": "code",
   "execution_count": 56,
   "id": "c63c6291",
   "metadata": {},
   "outputs": [
    {
     "data": {
      "text/html": [
       "<table class=\"dataframe\">\n",
       "<caption>A matrix: 2 × 2 of type dbl</caption>\n",
       "<thead>\n",
       "\t<tr><th></th><th scope=col>x</th><th scope=col>y</th></tr>\n",
       "</thead>\n",
       "<tbody>\n",
       "\t<tr><th scope=row>x</th><td> 1.000000000000000000</td><td>-0.035932429215738852</td></tr>\n",
       "\t<tr><th scope=row>y</th><td>-0.035932429215738852</td><td> 1.000000000000000000</td></tr>\n",
       "</tbody>\n",
       "</table>\n"
      ],
      "text/latex": [
       "A matrix: 2 × 2 of type dbl\n",
       "\\begin{tabular}{r|ll}\n",
       "  & x & y\\\\\n",
       "\\hline\n",
       "\tx &  1.000000000000000000 & -0.035932429215738852\\\\\n",
       "\ty & -0.035932429215738852 &  1.000000000000000000\\\\\n",
       "\\end{tabular}\n"
      ],
      "text/markdown": [
       "\n",
       "A matrix: 2 × 2 of type dbl\n",
       "\n",
       "| <!--/--> | x | y |\n",
       "|---|---|---|\n",
       "| x |  1.000000000000000000 | -0.035932429215738852 |\n",
       "| y | -0.035932429215738852 |  1.000000000000000000 |\n",
       "\n"
      ],
      "text/plain": [
       "  x                     y                    \n",
       "x  1.000000000000000000 -0.035932429215738852\n",
       "y -0.035932429215738852  1.000000000000000000"
      ]
     },
     "metadata": {},
     "output_type": "display_data"
    },
    {
     "data": {
      "text/html": [
       "<table class=\"dataframe\">\n",
       "<caption>A matrix: 2 × 2 of type dbl</caption>\n",
       "<thead>\n",
       "\t<tr><th></th><th scope=col>x</th><th scope=col>y</th></tr>\n",
       "</thead>\n",
       "<tbody>\n",
       "\t<tr><th scope=row>x</th><td> 1.0000000000000000000</td><td>-0.0042836732449141072</td></tr>\n",
       "\t<tr><th scope=row>y</th><td>-0.0042836732449141072</td><td> 1.0000000000000000000</td></tr>\n",
       "</tbody>\n",
       "</table>\n"
      ],
      "text/latex": [
       "A matrix: 2 × 2 of type dbl\n",
       "\\begin{tabular}{r|ll}\n",
       "  & x & y\\\\\n",
       "\\hline\n",
       "\tx &  1.0000000000000000000 & -0.0042836732449141072\\\\\n",
       "\ty & -0.0042836732449141072 &  1.0000000000000000000\\\\\n",
       "\\end{tabular}\n"
      ],
      "text/markdown": [
       "\n",
       "A matrix: 2 × 2 of type dbl\n",
       "\n",
       "| <!--/--> | x | y |\n",
       "|---|---|---|\n",
       "| x |  1.0000000000000000000 | -0.0042836732449141072 |\n",
       "| y | -0.0042836732449141072 |  1.0000000000000000000 |\n",
       "\n"
      ],
      "text/plain": [
       "  x                      y                     \n",
       "x  1.0000000000000000000 -0.0042836732449141072\n",
       "y -0.0042836732449141072  1.0000000000000000000"
      ]
     },
     "metadata": {},
     "output_type": "display_data"
    },
    {
     "data": {
      "text/html": [
       "<table class=\"dataframe\">\n",
       "<caption>A matrix: 2 × 2 of type dbl</caption>\n",
       "<thead>\n",
       "\t<tr><th></th><th scope=col>x</th><th scope=col>y</th></tr>\n",
       "</thead>\n",
       "<tbody>\n",
       "\t<tr><th scope=row>x</th><td> 1.000000000000000000</td><td>-0.001525135967310293</td></tr>\n",
       "\t<tr><th scope=row>y</th><td>-0.001525135967310293</td><td> 1.000000000000000000</td></tr>\n",
       "</tbody>\n",
       "</table>\n"
      ],
      "text/latex": [
       "A matrix: 2 × 2 of type dbl\n",
       "\\begin{tabular}{r|ll}\n",
       "  & x & y\\\\\n",
       "\\hline\n",
       "\tx &  1.000000000000000000 & -0.001525135967310293\\\\\n",
       "\ty & -0.001525135967310293 &  1.000000000000000000\\\\\n",
       "\\end{tabular}\n"
      ],
      "text/markdown": [
       "\n",
       "A matrix: 2 × 2 of type dbl\n",
       "\n",
       "| <!--/--> | x | y |\n",
       "|---|---|---|\n",
       "| x |  1.000000000000000000 | -0.001525135967310293 |\n",
       "| y | -0.001525135967310293 |  1.000000000000000000 |\n",
       "\n"
      ],
      "text/plain": [
       "  x                     y                    \n",
       "x  1.000000000000000000 -0.001525135967310293\n",
       "y -0.001525135967310293  1.000000000000000000"
      ]
     },
     "metadata": {},
     "output_type": "display_data"
    }
   ],
   "source": [
    "##corrplot\n",
    "pearson_corr <- cor(data, method = \"pearson\")\n",
    "spearman_corr <- cor(data, method = \"spearman\")\n",
    "kendall_corr <- cor(data, method = \"kendall\")\n",
    "pearson_corr\n",
    "spearman_corr\n",
    "kendall_corr"
   ]
  },
  {
   "cell_type": "code",
   "execution_count": 57,
   "id": "22a126a1",
   "metadata": {},
   "outputs": [
    {
     "data": {
      "text/html": [
       "<table class=\"dataframe\">\n",
       "<caption>A tibble: 6 × 2</caption>\n",
       "<thead>\n",
       "\t<tr><th scope=col>x</th><th scope=col>y</th></tr>\n",
       "\t<tr><th scope=col>&lt;dbl&gt;</th><th scope=col>&lt;dbl&gt;</th></tr>\n",
       "</thead>\n",
       "<tbody>\n",
       "\t<tr><td>0.120175494608009997</td><td> 7775.5752257446202</td></tr>\n",
       "\t<tr><td>0.136324072741388302</td><td> 7574.0881797734764</td></tr>\n",
       "\t<tr><td>0.144109012158208399</td><td>11203.2880765773207</td></tr>\n",
       "\t<tr><td>0.184037759374836907</td><td> 2242.9596346758499</td></tr>\n",
       "\t<tr><td>0.126265805428844191</td><td> 8607.1395184441244</td></tr>\n",
       "\t<tr><td>0.096276950515374368</td><td>19260.2391181596213</td></tr>\n",
       "</tbody>\n",
       "</table>\n"
      ],
      "text/latex": [
       "A tibble: 6 × 2\n",
       "\\begin{tabular}{ll}\n",
       " x & y\\\\\n",
       " <dbl> & <dbl>\\\\\n",
       "\\hline\n",
       "\t 0.120175494608009997 &  7775.5752257446202\\\\\n",
       "\t 0.136324072741388302 &  7574.0881797734764\\\\\n",
       "\t 0.144109012158208399 & 11203.2880765773207\\\\\n",
       "\t 0.184037759374836907 &  2242.9596346758499\\\\\n",
       "\t 0.126265805428844191 &  8607.1395184441244\\\\\n",
       "\t 0.096276950515374368 & 19260.2391181596213\\\\\n",
       "\\end{tabular}\n"
      ],
      "text/markdown": [
       "\n",
       "A tibble: 6 × 2\n",
       "\n",
       "| x &lt;dbl&gt; | y &lt;dbl&gt; |\n",
       "|---|---|\n",
       "| 0.120175494608009997 |  7775.5752257446202 |\n",
       "| 0.136324072741388302 |  7574.0881797734764 |\n",
       "| 0.144109012158208399 | 11203.2880765773207 |\n",
       "| 0.184037759374836907 |  2242.9596346758499 |\n",
       "| 0.126265805428844191 |  8607.1395184441244 |\n",
       "| 0.096276950515374368 | 19260.2391181596213 |\n",
       "\n"
      ],
      "text/plain": [
       "  x                    y                  \n",
       "1 0.120175494608009997  7775.5752257446202\n",
       "2 0.136324072741388302  7574.0881797734764\n",
       "3 0.144109012158208399 11203.2880765773207\n",
       "4 0.184037759374836907  2242.9596346758499\n",
       "5 0.126265805428844191  8607.1395184441244\n",
       "6 0.096276950515374368 19260.2391181596213"
      ]
     },
     "metadata": {},
     "output_type": "display_data"
    }
   ],
   "source": [
    "data <- read_excel(\"C:/Users/SADEGHI/Desktop/Corr_output.xlsx\", sheet=\"morph_av-ngl_glnu\")\n",
    "x <- data$x\n",
    "y <- data$y\n",
    "head(data)"
   ]
  },
  {
   "cell_type": "code",
   "execution_count": 58,
   "id": "692d22d1",
   "metadata": {},
   "outputs": [
    {
     "name": "stdout",
     "output_type": "stream",
     "text": [
      "Pearson (base r): -0.267780371834727Spearman (base r): -0.861370998051840Kendaalls tau (base r): -0.679157434318437"
     ]
    }
   ],
   "source": [
    "## Base R \n",
    "\n",
    "# Pearson\n",
    "correlation <- cor(x, y, method = \"pearson\")\n",
    "formatted_correlation <- sprintf(\"%.15f\", correlation)\n",
    "cat(\"Pearson (base r):\", formatted_correlation)\n",
    "\n",
    "# Spearman\n",
    "result = cor(x, y, method = \"spearman\")\n",
    "cat(\"Spearman (base r):\", sprintf(\"%.15f\", result))\n",
    "\n",
    "# Kendall\n",
    "result1 = cor(x, y, method = \"kendall\") \n",
    "cat(\"Kendaalls tau (base r):\", sprintf(\"%.15f\", result1))"
   ]
  },
  {
   "cell_type": "code",
   "execution_count": 59,
   "id": "52110f3d",
   "metadata": {},
   "outputs": [
    {
     "name": "stdout",
     "output_type": "stream",
     "text": [
      "Mutual Information: 6.380122536899765"
     ]
    }
   ],
   "source": [
    "## Infotheo Library\n",
    "x1 <- as.factor(data$x)\n",
    "y1 <- as.factor(data$y)\n",
    "mi <- mutinformation(x1, y1)\n",
    "cat(\"Mutual Information:\", sprintf(\"%.15f\", mi))"
   ]
  },
  {
   "cell_type": "code",
   "execution_count": 60,
   "id": "d2361fa2",
   "metadata": {},
   "outputs": [
    {
     "name": "stdout",
     "output_type": "stream",
     "text": [
      "Distance Correlation: 0.781994969833151"
     ]
    }
   ],
   "source": [
    "## Energy Library \n",
    "distance_corr <- dcor(x, y)\n",
    "cat(\"Distance Correlation:\", sprintf(\"%.15f\", distance_corr))"
   ]
  },
  {
   "cell_type": "code",
   "execution_count": 61,
   "id": "f6a1494a",
   "metadata": {},
   "outputs": [
    {
     "name": "stdout",
     "output_type": "stream",
     "text": [
      "Pearson Correlation (psych):  -0.267780371834727 \n",
      "Spearman Correlation (psych):  -0.861370998051840 \n",
      "Kendall's Tau (psych):  -0.679157434318437 \n"
     ]
    }
   ],
   "source": [
    "##  Psych Library\n",
    "pearson_corr <- corr.test(x, y, method = \"pearson\")$r\n",
    "cat(\"Pearson Correlation (psych): \", sprintf(\"%.15f\", pearson_corr), \"\\n\")\n",
    "\n",
    "spearman_corr_psych <- corr.test(x, y, method = \"spearman\")$r\n",
    "cat(\"Spearman Correlation (psych): \",  sprintf(\"%.15f\", spearman_corr_psych), \"\\n\")\n",
    "\n",
    "kendall_tau_psych <- corr.test(x, y, method = \"kendall\")$r\n",
    "cat(\"Kendall's Tau (psych): \", sprintf(\"%.15f\", kendall_tau_psych), \"\\n\")"
   ]
  },
  {
   "cell_type": "code",
   "execution_count": 62,
   "id": "39ed412d",
   "metadata": {},
   "outputs": [
    {
     "name": "stdout",
     "output_type": "stream",
     "text": [
      "Pearson Correlation (Hmisc):  1.000000000000000 -0.267780371834726 -0.267780371834726 1.000000000000000 \n",
      "Spearman Correlation (Hmisc):  -0.861370998051840 \n"
     ]
    }
   ],
   "source": [
    "## Hmisc \n",
    "pearson_corr <- rcorr(x, y, type = \"pearson\")$r\n",
    "cat(\"Pearson Correlation (Hmisc): \",sprintf(\"%.15f\", pearson_corr), \"\\n\")\n",
    "\n",
    "spearman_corr_hmisc <- rcorr(x, y, type = \"spearman\")$r\n",
    "cat(\"Spearman Correlation (Hmisc): \", sprintf(\"%.15f\", spearman_corr_hmisc[1, 2]), \"\\n\")"
   ]
  },
  {
   "cell_type": "code",
   "execution_count": 63,
   "id": "be4f998f",
   "metadata": {},
   "outputs": [
    {
     "data": {
      "text/html": [
       "'Mutual Information (entropy):6.380122536899765'"
      ],
      "text/latex": [
       "'Mutual Information (entropy):6.380122536899765'"
      ],
      "text/markdown": [
       "'Mutual Information (entropy):6.380122536899765'"
      ],
      "text/plain": [
       "[1] \"Mutual Information (entropy):6.380122536899765\""
      ]
     },
     "metadata": {},
     "output_type": "display_data"
    }
   ],
   "source": [
    "## Entropy Library\n",
    "\n",
    "contingency_table <- table(x, y)\n",
    "Hx <- entropy(rowSums(contingency_table))\n",
    "Hy <- entropy(colSums(contingency_table))\n",
    "Hxy <- entropy(contingency_table)\n",
    "mutual_info_entropy <- Hx + Hy - Hxy\n",
    "sprintf(\"Mutual Information (entropy):%.15f\", mutual_info_entropy)\n"
   ]
  },
  {
   "cell_type": "code",
   "execution_count": 64,
   "id": "426cb11e",
   "metadata": {},
   "outputs": [
    {
     "data": {
      "text/html": [
       "<table class=\"dataframe\">\n",
       "<caption>A matrix: 2 × 2 of type dbl</caption>\n",
       "<thead>\n",
       "\t<tr><th></th><th scope=col>x</th><th scope=col>y</th></tr>\n",
       "</thead>\n",
       "<tbody>\n",
       "\t<tr><th scope=row>x</th><td> 1.00000000000000000</td><td>-0.26778037183472725</td></tr>\n",
       "\t<tr><th scope=row>y</th><td>-0.26778037183472725</td><td> 1.00000000000000000</td></tr>\n",
       "</tbody>\n",
       "</table>\n"
      ],
      "text/latex": [
       "A matrix: 2 × 2 of type dbl\n",
       "\\begin{tabular}{r|ll}\n",
       "  & x & y\\\\\n",
       "\\hline\n",
       "\tx &  1.00000000000000000 & -0.26778037183472725\\\\\n",
       "\ty & -0.26778037183472725 &  1.00000000000000000\\\\\n",
       "\\end{tabular}\n"
      ],
      "text/markdown": [
       "\n",
       "A matrix: 2 × 2 of type dbl\n",
       "\n",
       "| <!--/--> | x | y |\n",
       "|---|---|---|\n",
       "| x |  1.00000000000000000 | -0.26778037183472725 |\n",
       "| y | -0.26778037183472725 |  1.00000000000000000 |\n",
       "\n"
      ],
      "text/plain": [
       "  x                    y                   \n",
       "x  1.00000000000000000 -0.26778037183472725\n",
       "y -0.26778037183472725  1.00000000000000000"
      ]
     },
     "metadata": {},
     "output_type": "display_data"
    },
    {
     "data": {
      "text/html": [
       "<table class=\"dataframe\">\n",
       "<caption>A matrix: 2 × 2 of type dbl</caption>\n",
       "<thead>\n",
       "\t<tr><th></th><th scope=col>x</th><th scope=col>y</th></tr>\n",
       "</thead>\n",
       "<tbody>\n",
       "\t<tr><th scope=row>x</th><td> 1.00000000000000000</td><td>-0.86137099805184003</td></tr>\n",
       "\t<tr><th scope=row>y</th><td>-0.86137099805184003</td><td> 1.00000000000000000</td></tr>\n",
       "</tbody>\n",
       "</table>\n"
      ],
      "text/latex": [
       "A matrix: 2 × 2 of type dbl\n",
       "\\begin{tabular}{r|ll}\n",
       "  & x & y\\\\\n",
       "\\hline\n",
       "\tx &  1.00000000000000000 & -0.86137099805184003\\\\\n",
       "\ty & -0.86137099805184003 &  1.00000000000000000\\\\\n",
       "\\end{tabular}\n"
      ],
      "text/markdown": [
       "\n",
       "A matrix: 2 × 2 of type dbl\n",
       "\n",
       "| <!--/--> | x | y |\n",
       "|---|---|---|\n",
       "| x |  1.00000000000000000 | -0.86137099805184003 |\n",
       "| y | -0.86137099805184003 |  1.00000000000000000 |\n",
       "\n"
      ],
      "text/plain": [
       "  x                    y                   \n",
       "x  1.00000000000000000 -0.86137099805184003\n",
       "y -0.86137099805184003  1.00000000000000000"
      ]
     },
     "metadata": {},
     "output_type": "display_data"
    },
    {
     "data": {
      "text/html": [
       "<table class=\"dataframe\">\n",
       "<caption>A matrix: 2 × 2 of type dbl</caption>\n",
       "<thead>\n",
       "\t<tr><th></th><th scope=col>x</th><th scope=col>y</th></tr>\n",
       "</thead>\n",
       "<tbody>\n",
       "\t<tr><th scope=row>x</th><td> 1.00000000000000000</td><td>-0.67915743431843678</td></tr>\n",
       "\t<tr><th scope=row>y</th><td>-0.67915743431843678</td><td> 1.00000000000000000</td></tr>\n",
       "</tbody>\n",
       "</table>\n"
      ],
      "text/latex": [
       "A matrix: 2 × 2 of type dbl\n",
       "\\begin{tabular}{r|ll}\n",
       "  & x & y\\\\\n",
       "\\hline\n",
       "\tx &  1.00000000000000000 & -0.67915743431843678\\\\\n",
       "\ty & -0.67915743431843678 &  1.00000000000000000\\\\\n",
       "\\end{tabular}\n"
      ],
      "text/markdown": [
       "\n",
       "A matrix: 2 × 2 of type dbl\n",
       "\n",
       "| <!--/--> | x | y |\n",
       "|---|---|---|\n",
       "| x |  1.00000000000000000 | -0.67915743431843678 |\n",
       "| y | -0.67915743431843678 |  1.00000000000000000 |\n",
       "\n"
      ],
      "text/plain": [
       "  x                    y                   \n",
       "x  1.00000000000000000 -0.67915743431843678\n",
       "y -0.67915743431843678  1.00000000000000000"
      ]
     },
     "metadata": {},
     "output_type": "display_data"
    }
   ],
   "source": [
    "##corrplot\n",
    "pearson_corr <- cor(data, method = \"pearson\")\n",
    "spearman_corr <- cor(data, method = \"spearman\")\n",
    "kendall_corr <- cor(data, method = \"kendall\")\n",
    "pearson_corr\n",
    "spearman_corr\n",
    "kendall_corr"
   ]
  },
  {
   "cell_type": "code",
   "execution_count": null,
   "id": "e7af04ea",
   "metadata": {},
   "outputs": [],
   "source": []
  }
 ],
 "metadata": {
  "kernelspec": {
   "display_name": "R",
   "language": "R",
   "name": "ir"
  },
  "language_info": {
   "codemirror_mode": "r",
   "file_extension": ".r",
   "mimetype": "text/x-r-source",
   "name": "R",
   "pygments_lexer": "r",
   "version": "4.3.0"
  }
 },
 "nbformat": 4,
 "nbformat_minor": 5
}
