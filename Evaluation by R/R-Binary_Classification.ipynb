{
 "cells": [
  {
   "cell_type": "code",
   "execution_count": 1,
   "id": "92209bdb",
   "metadata": {},
   "outputs": [
    {
     "name": "stderr",
     "output_type": "stream",
     "text": [
      "Warning message:\n",
      "\"package 'readxl' was built under R version 4.3.3\"\n",
      "Warning message:\n",
      "\"package 'ggplot2' was built under R version 4.3.3\"\n",
      "Warning message:\n",
      "\"package 'caret' was built under R version 4.3.3\"\n",
      "Loading required package: lattice\n",
      "\n",
      "Warning message:\n",
      "\"package 'lattice' was built under R version 4.3.3\"\n",
      "Warning message:\n",
      "\"package 'yardstick' was built under R version 4.3.3\"\n",
      "\n",
      "Attaching package: 'yardstick'\n",
      "\n",
      "\n",
      "The following objects are masked from 'package:caret':\n",
      "\n",
      "    precision, recall, sensitivity, specificity\n",
      "\n",
      "\n",
      "Warning message:\n",
      "\"package 'Metrics' was built under R version 4.3.3\"\n",
      "\n",
      "Attaching package: 'Metrics'\n",
      "\n",
      "\n",
      "The following objects are masked from 'package:yardstick':\n",
      "\n",
      "    accuracy, mae, mape, mase, precision, recall, rmse, smape\n",
      "\n",
      "\n",
      "The following objects are masked from 'package:caret':\n",
      "\n",
      "    precision, recall\n",
      "\n",
      "\n",
      "Warning message:\n",
      "\"package 'e1071' was built under R version 4.3.3\"\n",
      "Warning message:\n",
      "\"package 'Hmisc' was built under R version 4.3.3\"\n",
      "\n",
      "Attaching package: 'Hmisc'\n",
      "\n",
      "\n",
      "The following object is masked from 'package:e1071':\n",
      "\n",
      "    impute\n",
      "\n",
      "\n",
      "The following objects are masked from 'package:base':\n",
      "\n",
      "    format.pval, units\n",
      "\n",
      "\n",
      "Warning message:\n",
      "\"package 'MLmetrics' was built under R version 4.3.3\"\n",
      "\n",
      "Attaching package: 'MLmetrics'\n",
      "\n",
      "\n",
      "The following objects are masked from 'package:caret':\n",
      "\n",
      "    MAE, RMSE\n",
      "\n",
      "\n",
      "The following object is masked from 'package:base':\n",
      "\n",
      "    Recall\n",
      "\n",
      "\n",
      "Warning message:\n",
      "\"package 'psych' was built under R version 4.3.3\"\n",
      "\n",
      "Attaching package: 'psych'\n",
      "\n",
      "\n",
      "The following object is masked from 'package:MLmetrics':\n",
      "\n",
      "    AUC\n",
      "\n",
      "\n",
      "The following object is masked from 'package:Hmisc':\n",
      "\n",
      "    describe\n",
      "\n",
      "\n",
      "The following objects are masked from 'package:ggplot2':\n",
      "\n",
      "    %+%, alpha\n",
      "\n",
      "\n",
      "Loading required package: lpSolve\n",
      "\n",
      "Warning message:\n",
      "\"package 'lpSolve' was built under R version 4.3.2\"\n",
      "Warning message:\n",
      "\"package 'dplyr' was built under R version 4.3.3\"\n",
      "\n",
      "Attaching package: 'dplyr'\n",
      "\n",
      "\n",
      "The following objects are masked from 'package:Hmisc':\n",
      "\n",
      "    src, summarize\n",
      "\n",
      "\n",
      "The following objects are masked from 'package:stats':\n",
      "\n",
      "    filter, lag\n",
      "\n",
      "\n",
      "The following objects are masked from 'package:base':\n",
      "\n",
      "    intersect, setdiff, setequal, union\n",
      "\n",
      "\n"
     ]
    }
   ],
   "source": [
    "library(readxl)\n",
    "library(ggplot2)\n",
    "library(caret)\n",
    "library(yardstick)\n",
    "library(tibble)\n",
    "library(Metrics)\n",
    "library(e1071)\n",
    "library(ROCR)\n",
    "library(Hmisc)\n",
    "library(MLmetrics)\n",
    "library(mccr)\n",
    "library(psych)\n",
    "library(irr)\n",
    "library(ROCR)\n",
    "library(PRROC)\n",
    "library(dplyr)\n",
    "library(readxl)"
   ]
  },
  {
   "cell_type": "code",
   "execution_count": 2,
   "id": "c1e3e23a",
   "metadata": {},
   "outputs": [
    {
     "data": {
      "text/html": [
       "<table class=\"dataframe\">\n",
       "<caption>A tibble: 6 × 3</caption>\n",
       "<thead>\n",
       "\t<tr><th scope=col>y_true</th><th scope=col>y_pred</th><th scope=col>y_pred_proba</th></tr>\n",
       "\t<tr><th scope=col>&lt;dbl&gt;</th><th scope=col>&lt;dbl&gt;</th><th scope=col>&lt;dbl&gt;</th></tr>\n",
       "</thead>\n",
       "<tbody>\n",
       "\t<tr><td>0</td><td>0</td><td>0.12</td></tr>\n",
       "\t<tr><td>1</td><td>0</td><td>0.27</td></tr>\n",
       "\t<tr><td>0</td><td>0</td><td>0.32</td></tr>\n",
       "\t<tr><td>1</td><td>0</td><td>0.22</td></tr>\n",
       "\t<tr><td>0</td><td>0</td><td>0.39</td></tr>\n",
       "\t<tr><td>0</td><td>0</td><td>0.18</td></tr>\n",
       "</tbody>\n",
       "</table>\n"
      ],
      "text/latex": [
       "A tibble: 6 × 3\n",
       "\\begin{tabular}{lll}\n",
       " y\\_true & y\\_pred & y\\_pred\\_proba\\\\\n",
       " <dbl> & <dbl> & <dbl>\\\\\n",
       "\\hline\n",
       "\t 0 & 0 & 0.12\\\\\n",
       "\t 1 & 0 & 0.27\\\\\n",
       "\t 0 & 0 & 0.32\\\\\n",
       "\t 1 & 0 & 0.22\\\\\n",
       "\t 0 & 0 & 0.39\\\\\n",
       "\t 0 & 0 & 0.18\\\\\n",
       "\\end{tabular}\n"
      ],
      "text/markdown": [
       "\n",
       "A tibble: 6 × 3\n",
       "\n",
       "| y_true &lt;dbl&gt; | y_pred &lt;dbl&gt; | y_pred_proba &lt;dbl&gt; |\n",
       "|---|---|---|\n",
       "| 0 | 0 | 0.12 |\n",
       "| 1 | 0 | 0.27 |\n",
       "| 0 | 0 | 0.32 |\n",
       "| 1 | 0 | 0.22 |\n",
       "| 0 | 0 | 0.39 |\n",
       "| 0 | 0 | 0.18 |\n",
       "\n"
      ],
      "text/plain": [
       "  y_true y_pred y_pred_proba\n",
       "1 0      0      0.12        \n",
       "2 1      0      0.27        \n",
       "3 0      0      0.32        \n",
       "4 1      0      0.22        \n",
       "5 0      0      0.39        \n",
       "6 0      0      0.18        "
      ]
     },
     "metadata": {},
     "output_type": "display_data"
    }
   ],
   "source": [
    "data <- read_excel(\"C:/Users/SADEGHI/Desktop/BinaryClassification_data.xlsx\", sheet=\"HC_DF_SPT_Head and Neck\")\n",
    "head(data)\n",
    "y_true  <- data$y_true\n",
    "y_pred <- data$y_pred"
   ]
  },
  {
   "cell_type": "code",
   "execution_count": 3,
   "id": "10b47878",
   "metadata": {},
   "outputs": [
    {
     "name": "stderr",
     "output_type": "stream",
     "text": [
      "Warning message:\n",
      "\"package 'pROC' was built under R version 4.3.3\"\n",
      "Type 'citation(\"pROC\")' for a citation.\n",
      "\n",
      "\n",
      "Attaching package: 'pROC'\n",
      "\n",
      "\n",
      "The following object is masked from 'package:Metrics':\n",
      "\n",
      "    auc\n",
      "\n",
      "\n",
      "The following objects are masked from 'package:stats':\n",
      "\n",
      "    cov, smooth, var\n",
      "\n",
      "\n",
      "Setting levels: control = 0, case = 1\n",
      "\n",
      "Setting direction: controls < cases\n",
      "\n"
     ]
    },
    {
     "data": {
      "text/html": [
       "0.456105041211424"
      ],
      "text/latex": [
       "0.456105041211424"
      ],
      "text/markdown": [
       "0.456105041211424"
      ],
      "text/plain": [
       "Area under the curve: 0.4561"
      ]
     },
     "metadata": {},
     "output_type": "display_data"
    }
   ],
   "source": [
    "library(pROC)\n",
    "auc(roc(y_true, y_pred))\n"
   ]
  },
  {
   "cell_type": "code",
   "execution_count": 4,
   "id": "626db344",
   "metadata": {},
   "outputs": [
    {
     "name": "stdout",
     "output_type": "stream",
     "text": [
      "[1] \"0.456105041211424\"\n"
     ]
    }
   ],
   "source": [
    "y_true <- as.numeric(y_true)\n",
    "pred <- prediction(y_pred, y_true)\n",
    "perf <- performance(pred, \"auc\")\n",
    "auc_value <- perf@y.values[[1]]\n",
    "formatted_auc_value <- format(auc_value, nsmall = 15)\n",
    "print(formatted_auc_value)"
   ]
  },
  {
   "cell_type": "code",
   "execution_count": 41,
   "id": "77b05936",
   "metadata": {},
   "outputs": [
    {
     "data": {
      "text/html": [
       "'Base-R Accuracy:0.691011235955056'"
      ],
      "text/latex": [
       "'Base-R Accuracy:0.691011235955056'"
      ],
      "text/markdown": [
       "'Base-R Accuracy:0.691011235955056'"
      ],
      "text/plain": [
       "[1] \"Base-R Accuracy:0.691011235955056\""
      ]
     },
     "metadata": {},
     "output_type": "display_data"
    },
    {
     "data": {
      "text/html": [
       "'Base-R precision: 0.090909090909091'"
      ],
      "text/latex": [
       "'Base-R precision: 0.090909090909091'"
      ],
      "text/markdown": [
       "'Base-R precision: 0.090909090909091'"
      ],
      "text/plain": [
       "[1] \"Base-R precision: 0.090909090909091\""
      ]
     },
     "metadata": {},
     "output_type": "display_data"
    },
    {
     "data": {
      "text/html": [
       "'Base-R recall: 0.054054054054054'"
      ],
      "text/latex": [
       "'Base-R recall: 0.054054054054054'"
      ],
      "text/markdown": [
       "'Base-R recall: 0.054054054054054'"
      ],
      "text/plain": [
       "[1] \"Base-R recall: 0.054054054054054\""
      ]
     },
     "metadata": {},
     "output_type": "display_data"
    },
    {
     "data": {
      "text/html": [
       "'Base-R f1_score: 0.067796610169492'"
      ],
      "text/latex": [
       "'Base-R f1\\_score: 0.067796610169492'"
      ],
      "text/markdown": [
       "'Base-R f1_score: 0.067796610169492'"
      ],
      "text/plain": [
       "[1] \"Base-R f1_score: 0.067796610169492\""
      ]
     },
     "metadata": {},
     "output_type": "display_data"
    },
    {
     "data": {
      "text/html": [
       "'Cohen\\'s Kappa (manual): -0.103222898354744'"
      ],
      "text/latex": [
       "'Cohen\\textbackslash{}'s Kappa (manual): -0.103222898354744'"
      ],
      "text/markdown": [
       "'Cohen\\'s Kappa (manual): -0.103222898354744'"
      ],
      "text/plain": [
       "[1] \"Cohen's Kappa (manual): -0.103222898354744\""
      ]
     },
     "metadata": {},
     "output_type": "display_data"
    },
    {
     "name": "stdout",
     "output_type": "stream",
     "text": [
      "[1] \"MCC (manual): -0.108238414016216\"\n"
     ]
    },
    {
     "data": {
      "text/html": [
       "'Base-R Balanced Accuracy: 0.456105041211424'"
      ],
      "text/latex": [
       "'Base-R Balanced Accuracy: 0.456105041211424'"
      ],
      "text/markdown": [
       "'Base-R Balanced Accuracy: 0.456105041211424'"
      ],
      "text/plain": [
       "[1] \"Base-R Balanced Accuracy: 0.456105041211424\""
      ]
     },
     "metadata": {},
     "output_type": "display_data"
    },
    {
     "data": {
      "text/html": [
       "'Base-R F beta Score: 0.080000000000000'"
      ],
      "text/latex": [
       "'Base-R F beta Score: 0.080000000000000'"
      ],
      "text/markdown": [
       "'Base-R F beta Score: 0.080000000000000'"
      ],
      "text/plain": [
       "[1] \"Base-R F beta Score: 0.080000000000000\""
      ]
     },
     "metadata": {},
     "output_type": "display_data"
    },
    {
     "data": {
      "text/html": [
       "'Base-R Jaccard Index: 0.035087719298246'"
      ],
      "text/latex": [
       "'Base-R Jaccard Index: 0.035087719298246'"
      ],
      "text/markdown": [
       "'Base-R Jaccard Index: 0.035087719298246'"
      ],
      "text/plain": [
       "[1] \"Base-R Jaccard Index: 0.035087719298246\""
      ]
     },
     "metadata": {},
     "output_type": "display_data"
    },
    {
     "name": "stdout",
     "output_type": "stream",
     "text": [
      "[1] \"Geometric Mean (manual): 0.215375979032619\"\n"
     ]
    }
   ],
   "source": [
    "### Base R ###\n",
    "accuracy <- sum(y_true == y_pred) / length(y_true)\n",
    "sprintf(\"Base-R Accuracy:%.15f\", accuracy)\n",
    "\n",
    "conf_matrix <- table(Predicted = y_pred, Actual = y_true)\n",
    "TP <- conf_matrix[\"1\", \"1\"]\n",
    "FP <- conf_matrix[\"1\", \"0\"]\n",
    "FN <- conf_matrix[\"0\", \"1\"]\n",
    "TN <- conf_matrix[\"0\", \"0\"]\n",
    "precision <- TP / (TP + FP)\n",
    "sprintf(\"Base-R precision: %.15f\", precision)\n",
    "recall <- TP /(TP + FN)\n",
    "sprintf(\"Base-R recall: %.15f\", recall)\n",
    "f1_score <- 2*(precision*recall)/(precision + recall)\n",
    "sprintf(\"Base-R f1_score: %.15f\", f1_score)\n",
    "\n",
    "\n",
    "\n",
    "observed_agreement <- sum(diag(conf_matrix)) / sum(conf_matrix)\n",
    "\n",
    "row_probs <- rowSums(conf_matrix) / sum(conf_matrix)\n",
    "col_probs <- colSums(conf_matrix) / sum(conf_matrix)\n",
    "expected_agreement <- sum(row_probs * col_probs)\n",
    "\n",
    "kappa <- (observed_agreement - expected_agreement) / (1 - expected_agreement)\n",
    "sprintf(\"Cohen's Kappa (manual): %.15f\", kappa)\n",
    "\n",
    "\n",
    "\n",
    "mcc <- (TP * TN - FP * FN) / sqrt((TP + FP) * (TP + FN) * (TN + FP) * (TN + FN))\n",
    "print(paste(\"MCC (manual):\", mcc))\n",
    "\n",
    "sensitivity <- TP / (TP + FN)\n",
    "specificity <- TN / (TN + FP)\n",
    "\n",
    "balanced_accuracy = (sensitivity + specificity)/2\n",
    "sprintf(\"Base-R Balanced Accuracy: %.15f\", balanced_accuracy)\n",
    "\n",
    "\n",
    "beta <- 0.5;\n",
    "f_beta_score <- ((1 + beta**2) * (precision * recall)) / (beta**2 * precision + recall);\n",
    "sprintf(\"Base-R F beta Score: %.15f\", f_beta_score)\n",
    "\n",
    "\n",
    "\n",
    "jaccard <- TP/ (TP + FP +FN)\n",
    "sprintf(\"Base-R Jaccard Index: %.15f\", jaccard)\n",
    "\n",
    "geometric_mean_manual <- sqrt(sensitivity * specificity)\n",
    "print(paste(\"Geometric Mean (manual):\", geometric_mean_manual))"
   ]
  },
  {
   "cell_type": "code",
   "execution_count": 5,
   "id": "3a09b586",
   "metadata": {},
   "outputs": [
    {
     "data": {
      "text/html": [
       "'Caret Accuracy: 0.691011235955056'"
      ],
      "text/latex": [
       "'Caret Accuracy: 0.691011235955056'"
      ],
      "text/markdown": [
       "'Caret Accuracy: 0.691011235955056'"
      ],
      "text/plain": [
       "[1] \"Caret Accuracy: 0.691011235955056\""
      ]
     },
     "metadata": {},
     "output_type": "display_data"
    },
    {
     "data": {
      "text/html": [
       "'Caret precision: 0.775641025641026'"
      ],
      "text/latex": [
       "'Caret precision: 0.775641025641026'"
      ],
      "text/markdown": [
       "'Caret precision: 0.775641025641026'"
      ],
      "text/plain": [
       "[1] \"Caret precision: 0.775641025641026\""
      ]
     },
     "metadata": {},
     "output_type": "display_data"
    },
    {
     "data": {
      "text/html": [
       "'Caret recall: 0.858156028368794'"
      ],
      "text/latex": [
       "'Caret recall: 0.858156028368794'"
      ],
      "text/markdown": [
       "'Caret recall: 0.858156028368794'"
      ],
      "text/plain": [
       "[1] \"Caret recall: 0.858156028368794\""
      ]
     },
     "metadata": {},
     "output_type": "display_data"
    },
    {
     "data": {
      "text/html": [
       "'Caret f1_score: 0.814814814814815'"
      ],
      "text/latex": [
       "'Caret f1\\_score: 0.814814814814815'"
      ],
      "text/markdown": [
       "'Caret f1_score: 0.814814814814815'"
      ],
      "text/plain": [
       "[1] \"Caret f1_score: 0.814814814814815\""
      ]
     },
     "metadata": {},
     "output_type": "display_data"
    },
    {
     "name": "stdout",
     "output_type": "stream",
     "text": [
      "[1] \"MCC (manual): -0.108238414016216\"\n",
      "[1] \"Cohen's Kappa (caret): -0.103222898354744\"\n"
     ]
    },
    {
     "data": {
      "text/html": [
       "'Balanced Accuracy (caret): 0.456105041211424'"
      ],
      "text/latex": [
       "'Balanced Accuracy (caret): 0.456105041211424'"
      ],
      "text/markdown": [
       "'Balanced Accuracy (caret): 0.456105041211424'"
      ],
      "text/plain": [
       "[1] \"Balanced Accuracy (caret): 0.456105041211424\""
      ]
     },
     "metadata": {},
     "output_type": "display_data"
    },
    {
     "data": {
      "text/html": [
       "'Balanced Accuracy (caret): 0.790849673202615'"
      ],
      "text/latex": [
       "'Balanced Accuracy (caret): 0.790849673202615'"
      ],
      "text/markdown": [
       "'Balanced Accuracy (caret): 0.790849673202615'"
      ],
      "text/plain": [
       "[1] \"Balanced Accuracy (caret): 0.790849673202615\""
      ]
     },
     "metadata": {},
     "output_type": "display_data"
    },
    {
     "data": {
      "text/html": [
       "'Jaccard Index (caret): 0.035087719298246'"
      ],
      "text/latex": [
       "'Jaccard Index (caret): 0.035087719298246'"
      ],
      "text/markdown": [
       "'Jaccard Index (caret): 0.035087719298246'"
      ],
      "text/plain": [
       "[1] \"Jaccard Index (caret): 0.035087719298246\""
      ]
     },
     "metadata": {},
     "output_type": "display_data"
    },
    {
     "name": "stdout",
     "output_type": "stream",
     "text": [
      "[1] \"Geometric Mean (caret): 0.215375979032619\"\n"
     ]
    }
   ],
   "source": [
    "### Caret Library ###\n",
    "\n",
    "confMatrix <- confusionMatrix(factor(y_pred), factor(y_true))\n",
    "accuracy <- confMatrix$overall['Accuracy']\n",
    "sprintf(\"Caret Accuracy: %.15f\", accuracy)\n",
    "tn <- confMatrix$table[1, 1]  # True Negatives\n",
    "fp <- confMatrix$table[2, 1]  # False Positives\n",
    "fn <- confMatrix$table[1, 2]  # False Negatives\n",
    "tp <- confMatrix$table[2, 2]  # True Positives\n",
    "\n",
    "precision <- confMatrix$byClass['Pos Pred Value']\n",
    "recall <- confMatrix$byClass['Sensitivity']\n",
    "f1 <- confMatrix$byClass['F1']\n",
    "\n",
    "sprintf(\"Caret precision: %.15f\", precision)\n",
    "sprintf(\"Caret recall: %.15f\", recall)\n",
    "sprintf(\"Caret f1_score: %.15f\", f1)\n",
    "\n",
    "mcc <- (tp * tn - fp * fn) / sqrt((tp + fp) * (tp + fn) * (tn + fp) * (tn + fn))\n",
    "print(paste(\"MCC (manual):\", mcc))\n",
    "\n",
    "kappa_caret <- confMatrix$overall['Kappa']\n",
    "print(paste(\"Cohen's Kappa (caret):\", kappa_caret))\n",
    "\n",
    "sensitivity1 <- tp / (tp + fn)\n",
    "specificity1 <- tn / (tn + fp)\n",
    "\n",
    "balanced_accuracy1 = (sensitivity1 + specificity1)/2\n",
    "sprintf(\"Balanced Accuracy (caret): %.15f\", balanced_accuracy1)\n",
    "\n",
    "\n",
    "beta <- 0.5;\n",
    "f_beta_score <- ((1 + beta**2) * (precision * recall)) / (beta**2 * precision + recall);\n",
    "sprintf(\"Balanced Accuracy (caret): %.15f\", f_beta_score)\n",
    "\n",
    "\n",
    "jaccard <- tp/ (tp + fp + fn)\n",
    "sprintf(\"Jaccard Index (caret): %.15f\", jaccard)\n",
    "\n",
    "sensitivity <- confMatrix$byClass[\"Sensitivity\"]\n",
    "specificity <- confMatrix$byClass[\"Specificity\"]\n",
    "geometric_mean_caret <- sqrt(sensitivity * specificity)\n",
    "print(paste(\"Geometric Mean (caret):\", geometric_mean_caret))\n"
   ]
  },
  {
   "cell_type": "code",
   "execution_count": 6,
   "id": "14886b2f",
   "metadata": {},
   "outputs": [
    {
     "data": {
      "text/html": [
       "'MLmetrics Accuracy: 0.691011235955056'"
      ],
      "text/latex": [
       "'MLmetrics Accuracy: 0.691011235955056'"
      ],
      "text/markdown": [
       "'MLmetrics Accuracy: 0.691011235955056'"
      ],
      "text/plain": [
       "[1] \"MLmetrics Accuracy: 0.691011235955056\""
      ]
     },
     "metadata": {},
     "output_type": "display_data"
    },
    {
     "data": {
      "text/html": [
       "'MLmetric Precision: 0.090909090909091'"
      ],
      "text/latex": [
       "'MLmetric Precision: 0.090909090909091'"
      ],
      "text/markdown": [
       "'MLmetric Precision: 0.090909090909091'"
      ],
      "text/plain": [
       "[1] \"MLmetric Precision: 0.090909090909091\""
      ]
     },
     "metadata": {},
     "output_type": "display_data"
    },
    {
     "data": {
      "text/html": [
       "'MLmetric Recall: 0.054054054054054'"
      ],
      "text/latex": [
       "'MLmetric Recall: 0.054054054054054'"
      ],
      "text/markdown": [
       "'MLmetric Recall: 0.054054054054054'"
      ],
      "text/plain": [
       "[1] \"MLmetric Recall: 0.054054054054054\""
      ]
     },
     "metadata": {},
     "output_type": "display_data"
    },
    {
     "data": {
      "text/html": [
       "'MLmetric F1: 0.067796610169492'"
      ],
      "text/latex": [
       "'MLmetric F1: 0.067796610169492'"
      ],
      "text/markdown": [
       "'MLmetric F1: 0.067796610169492'"
      ],
      "text/plain": [
       "[1] \"MLmetric F1: 0.067796610169492\""
      ]
     },
     "metadata": {},
     "output_type": "display_data"
    }
   ],
   "source": [
    "### MLmetrics Library ###\n",
    "accuracy <- Accuracy(y_pred, y_true)\n",
    "sprintf(\"MLmetrics Accuracy: %.15f\", accuracy)\n",
    "\n",
    "precision1 <- Precision(y_true, y_pred, positive = '1')\n",
    "precision2 <- Precision(y_true, y_pred, positive = '0')\n",
    "#precision <- (precision2 + precision1)/2\n",
    "sprintf(\"MLmetric Precision: %.15f\", precision1)\n",
    "\n",
    "recall1 <- Recall(y_true, y_pred, positive = \"1\")\n",
    "recall2 <- Recall (y_true, y_pred, positive = \"0\") \n",
    "sprintf(\"MLmetric Recall: %.15f\", recall1)\n",
    "f1_score1 <- F1_Score(y_pred, y_true, positive = \"1\")\n",
    "f1_score2 <- F1_Score(y_pred, y_true, positive = \"0\")\n",
    "\n",
    "sprintf(\"MLmetric F1: %.15f\", f1_score1)"
   ]
  },
  {
   "cell_type": "code",
   "execution_count": 7,
   "id": "427ea7ef",
   "metadata": {},
   "outputs": [
    {
     "data": {
      "text/html": [
       "'MccR MCC: -0.108238414016216'"
      ],
      "text/latex": [
       "'MccR MCC: -0.108238414016216'"
      ],
      "text/markdown": [
       "'MccR MCC: -0.108238414016216'"
      ],
      "text/plain": [
       "[1] \"MccR MCC: -0.108238414016216\""
      ]
     },
     "metadata": {},
     "output_type": "display_data"
    }
   ],
   "source": [
    "### MCCR Library ###\n",
    "mcc <- mccr(y_true, y_pred)\n",
    "sprintf(\"MccR MCC: %.15f\", mcc)"
   ]
  },
  {
   "cell_type": "code",
   "execution_count": 8,
   "id": "1b6eea34",
   "metadata": {},
   "outputs": [
    {
     "name": "stdout",
     "output_type": "stream",
     "text": [
      "[1] \"YardStick Accuracy: 0.691011235955056\"\n",
      "[1] \"YardStick Precision: 0.775641025641026\"\n",
      "[1] \"YardStick Recall: 0.858156028368794\"\n",
      "[1] \"F1 Score (yardstick): 0.814814814814815\"\n",
      "[1] \"YardStick Kappa: -0.103222898354744\"\n",
      "[1] \"YardStick FbetaScore: 0.790849673202614\"\n",
      "[1] \"Geometric Mean (yardstick): 0.215375979032619\"\n"
     ]
    }
   ],
   "source": [
    "data1 <- tibble(\n",
    "  truth = factor(y_true),\n",
    "  prediction = factor(y_pred)\n",
    ")\n",
    "\n",
    "# Calculate Accuracy\n",
    "accuracy_result <- accuracy_vec(truth = data1$truth, estimate = data1$prediction)\n",
    "print(sprintf(\"YardStick Accuracy: %.15f\", accuracy_result))\n",
    "\n",
    "# Calculate Precision\n",
    "precision_yard <- precision_vec(truth = data1$truth, estimate = data1$prediction)\n",
    "print(sprintf(\"YardStick Precision: %.15f\", precision_yard))\n",
    "\n",
    "# Calculate Recall\n",
    "recall_yard <- recall_vec(truth = data1$truth, estimate = data1$prediction)\n",
    "print(sprintf(\"YardStick Recall: %.15f\", recall_yard))\n",
    "\n",
    "# Calculate F1 Score\n",
    "f1_score_result <- f_meas_vec(truth = data1$truth, estimate = data1$prediction)\n",
    "print(sprintf(\"F1 Score (yardstick): %.15f\", f1_score_result))\n",
    "\n",
    "# Calculate Kappa\n",
    "kappa_yardstick <- kap_vec(truth = data1$truth, estimate = data1$prediction)\n",
    "print(sprintf(\"YardStick Kappa: %.15f\", kappa_yardstick))\n",
    "\n",
    "# Calculate F-beta Score with beta=0.5\n",
    "f_beta_score_result <- f_meas_vec(truth = data1$truth, estimate = data1$prediction, beta = 0.5)\n",
    "print(sprintf(\"YardStick FbetaScore: %.15f\", f_beta_score_result))\n",
    "\n",
    "# Calculate Sensitivity and Specificity\n",
    "sensitivity_metric <- sens_vec(truth = data1$truth, estimate = data1$prediction)\n",
    "specificity_metric <- spec_vec(truth = data1$truth, estimate = data1$prediction)\n",
    "geometric_mean_yardstick <- sqrt(sensitivity_metric * specificity_metric)\n",
    "print(sprintf(\"Geometric Mean (yardstick): %.15f\", geometric_mean_yardstick))\n"
   ]
  },
  {
   "cell_type": "code",
   "execution_count": 9,
   "id": "035910dd",
   "metadata": {},
   "outputs": [
    {
     "name": "stdout",
     "output_type": "stream",
     "text": [
      "[1] \"Cohen's Kappa (psych): -0.103222898354744\"\n"
     ]
    }
   ],
   "source": [
    "### Psych Library ###\n",
    "kappa_psych <- psych::cohen.kappa(cbind(factor(y_true, levels = c(0, 1)), factor(y_pred, levels = c(0, 1))))\n",
    "print(paste(\"Cohen's Kappa (psych):\", kappa_psych$kappa))"
   ]
  },
  {
   "cell_type": "code",
   "execution_count": 10,
   "id": "2ac1dc38",
   "metadata": {},
   "outputs": [
    {
     "name": "stdout",
     "output_type": "stream",
     "text": [
      "[1] \"Cohen's Kappa (irr): -0.103222898354744\"\n"
     ]
    }
   ],
   "source": [
    "### Irr Library ###\n",
    "kappa_irr <- irr::kappa2(cbind(factor(y_true, levels = c(0, 1)), factor(y_pred, levels = c(0, 1))))\n",
    "print(paste(\"Cohen's Kappa (irr):\", kappa_irr$value))"
   ]
  },
  {
   "cell_type": "code",
   "execution_count": null,
   "id": "0eb0247b",
   "metadata": {},
   "outputs": [],
   "source": []
  },
  {
   "cell_type": "code",
   "execution_count": null,
   "id": "cee541c0",
   "metadata": {},
   "outputs": [],
   "source": []
  }
 ],
 "metadata": {
  "kernelspec": {
   "display_name": "R",
   "language": "R",
   "name": "ir"
  },
  "language_info": {
   "codemirror_mode": "r",
   "file_extension": ".r",
   "mimetype": "text/x-r-source",
   "name": "R",
   "pygments_lexer": "r",
   "version": "4.3.0"
  }
 },
 "nbformat": 4,
 "nbformat_minor": 5
}
