{
 "cells": [
  {
   "cell_type": "code",
   "execution_count": 125,
   "id": "86819ab5",
   "metadata": {},
   "outputs": [],
   "source": [
    "options(digits = 17)"
   ]
  },
  {
   "cell_type": "code",
   "execution_count": 126,
   "id": "cb8c073d",
   "metadata": {},
   "outputs": [],
   "source": [
    "library(perm)\n",
    "library(dplyr)\n",
    "library(lmtest)\n",
    "library(car)\n",
    "library(PMCMRplus)\n",
    "library(MASS)\n",
    "library(rstatix)\n",
    "library(psych)\n",
    "library(survival)\n",
    "library(survminer)\n",
    "library(summarytools)\n",
    "library(BSDA)\n",
    "library(infer)\n",
    "library(jmv)\n",
    "library(DescTools)\n",
    "library(sandwich)\n",
    "library(afex)\n",
    "library(sjstats)\n",
    "library(wrassp)\n",
    "library(ggpubr)\n",
    "library(readxl)"
   ]
  },
  {
   "cell_type": "code",
   "execution_count": 127,
   "id": "cdddcd91",
   "metadata": {},
   "outputs": [],
   "source": [
    "if (!require(rstatix)) install.packages(\"rstatix\")\n",
    "if (!require(tidyr)) install.packages(\"tidyr\")\n",
    "library(rstatix)\n",
    "library(tidyr)\n"
   ]
  },
  {
   "cell_type": "code",
   "execution_count": 128,
   "id": "0accfeb3",
   "metadata": {},
   "outputs": [
    {
     "data": {
      "text/html": [
       "<table class=\"dataframe\">\n",
       "<caption>A tibble: 6 × 2</caption>\n",
       "<thead>\n",
       "\t<tr><th scope=col>x</th><th scope=col>y</th></tr>\n",
       "\t<tr><th scope=col>&lt;dbl&gt;</th><th scope=col>&lt;dbl&gt;</th></tr>\n",
       "</thead>\n",
       "<tbody>\n",
       "\t<tr><td>0.120175494608009997</td><td> 7775.5752257446202</td></tr>\n",
       "\t<tr><td>0.136324072741388302</td><td> 7574.0881797734764</td></tr>\n",
       "\t<tr><td>0.144109012158208399</td><td>11203.2880765773207</td></tr>\n",
       "\t<tr><td>0.184037759374836907</td><td> 2242.9596346758499</td></tr>\n",
       "\t<tr><td>0.126265805428844191</td><td> 8607.1395184441244</td></tr>\n",
       "\t<tr><td>0.096276950515374368</td><td>19260.2391181596213</td></tr>\n",
       "</tbody>\n",
       "</table>\n"
      ],
      "text/latex": [
       "A tibble: 6 × 2\n",
       "\\begin{tabular}{ll}\n",
       " x & y\\\\\n",
       " <dbl> & <dbl>\\\\\n",
       "\\hline\n",
       "\t 0.120175494608009997 &  7775.5752257446202\\\\\n",
       "\t 0.136324072741388302 &  7574.0881797734764\\\\\n",
       "\t 0.144109012158208399 & 11203.2880765773207\\\\\n",
       "\t 0.184037759374836907 &  2242.9596346758499\\\\\n",
       "\t 0.126265805428844191 &  8607.1395184441244\\\\\n",
       "\t 0.096276950515374368 & 19260.2391181596213\\\\\n",
       "\\end{tabular}\n"
      ],
      "text/markdown": [
       "\n",
       "A tibble: 6 × 2\n",
       "\n",
       "| x &lt;dbl&gt; | y &lt;dbl&gt; |\n",
       "|---|---|\n",
       "| 0.120175494608009997 |  7775.5752257446202 |\n",
       "| 0.136324072741388302 |  7574.0881797734764 |\n",
       "| 0.144109012158208399 | 11203.2880765773207 |\n",
       "| 0.184037759374836907 |  2242.9596346758499 |\n",
       "| 0.126265805428844191 |  8607.1395184441244 |\n",
       "| 0.096276950515374368 | 19260.2391181596213 |\n",
       "\n"
      ],
      "text/plain": [
       "  x                    y                  \n",
       "1 0.120175494608009997  7775.5752257446202\n",
       "2 0.136324072741388302  7574.0881797734764\n",
       "3 0.144109012158208399 11203.2880765773207\n",
       "4 0.184037759374836907  2242.9596346758499\n",
       "5 0.126265805428844191  8607.1395184441244\n",
       "6 0.096276950515374368 19260.2391181596213"
      ]
     },
     "metadata": {},
     "output_type": "display_data"
    }
   ],
   "source": [
    "data <- read_excel(\"C:/Users/SADEGHI/Desktop/Corr_output.xlsx\", sheet=\"morph_av-ngl_glnu\")\n",
    "data1 <- data$x\n",
    "data2 <- data$y\n",
    "head(data)"
   ]
  },
  {
   "cell_type": "markdown",
   "id": "edd8c568",
   "metadata": {},
   "source": [
    "# correlation"
   ]
  },
  {
   "cell_type": "code",
   "execution_count": 129,
   "id": "437b7707",
   "metadata": {},
   "outputs": [
    {
     "data": {
      "text/html": [
       "-0.267780371834727"
      ],
      "text/latex": [
       "-0.267780371834727"
      ],
      "text/markdown": [
       "-0.267780371834727"
      ],
      "text/plain": [
       "[1] -0.26778037183472725"
      ]
     },
     "metadata": {},
     "output_type": "display_data"
    }
   ],
   "source": [
    "cor_base_r <- cor(data1, data2)\n",
    "cor_base_r"
   ]
  },
  {
   "cell_type": "markdown",
   "id": "416a50b7",
   "metadata": {},
   "source": [
    "# Standard Deviation Difference"
   ]
  },
  {
   "cell_type": "code",
   "execution_count": 130,
   "id": "25cc150d",
   "metadata": {},
   "outputs": [
    {
     "name": "stdout",
     "output_type": "stream",
     "text": [
      "[1] -7071.3156271073176\n"
     ]
    }
   ],
   "source": [
    "sd_data1 <- sd(data1)\n",
    "sd_data2 <- sd(data2)\n",
    "sd_diff <- sd_data1 - sd_data2\n",
    "print(sd_diff)\n"
   ]
  },
  {
   "cell_type": "markdown",
   "id": "24f53c8a",
   "metadata": {},
   "source": [
    "# Mean Difference"
   ]
  },
  {
   "cell_type": "code",
   "execution_count": 131,
   "id": "7e786dfe",
   "metadata": {
    "scrolled": true
   },
   "outputs": [
    {
     "name": "stdout",
     "output_type": "stream",
     "text": [
      "[1] -10583.652836298226\n"
     ]
    }
   ],
   "source": [
    "mean_data1 <- mean(data1)\n",
    "mean_data2 <- mean(data2)\n",
    "mean_diff <- mean_data1 - mean_data2\n",
    "print(mean_diff)"
   ]
  },
  {
   "cell_type": "markdown",
   "id": "92d232e2",
   "metadata": {},
   "source": [
    "# z_test"
   ]
  },
  {
   "cell_type": "code",
   "execution_count": 132,
   "id": "971e4891",
   "metadata": {},
   "outputs": [
    {
     "name": "stdout",
     "output_type": "stream",
     "text": [
      "          Z_Statistic               Z_P_Value\n",
      "z -36.354367224151204 2.2416738430569128e-289\n"
     ]
    }
   ],
   "source": [
    "z_test <- z.test(data1, data2, alternative = \"two.sided\", mu = 0, sigma.x = sd(data1), sigma.y = sd(data2), conf.level = 0.95)\n",
    "z_statistic <- z_test$statistic\n",
    "z_p_value <- z_test$p.value\n",
    "results_df <- data.frame(\n",
    "  Z_Statistic = z_statistic,\n",
    "  Z_P_Value = z_p_value,\n",
    "  stringsAsFactors = FALSE\n",
    ")\n",
    "\n",
    "print(results_df)\n"
   ]
  },
  {
   "cell_type": "markdown",
   "id": "b1429dbf",
   "metadata": {},
   "source": [
    "# Wilcoxon signed-rank test"
   ]
  },
  {
   "cell_type": "code",
   "execution_count": 133,
   "id": "4e2c9fef",
   "metadata": {},
   "outputs": [
    {
     "name": "stdout",
     "output_type": "stream",
     "text": [
      "  WSRT_Statistic           WSRT_P_Value\n",
      "V              0 2.5698914373803422e-98\n"
     ]
    }
   ],
   "source": [
    "wsrt_test <- wilcox.test(data1, data2, paired = TRUE)\n",
    "wsrt_statistic <- wsrt_test$statistic\n",
    "wsrt_p_value <- wsrt_test$p.value\n",
    "results_df <- data.frame(\n",
    "  WSRT_Statistic = wsrt_statistic,\n",
    "  WSRT_P_Value = wsrt_p_value,\n",
    "  stringsAsFactors = FALSE\n",
    ")\n",
    "\n",
    "print(results_df)"
   ]
  },
  {
   "cell_type": "markdown",
   "id": "c17421b9",
   "metadata": {},
   "source": [
    "# Levene's test"
   ]
  },
  {
   "cell_type": "code",
   "execution_count": 134,
   "id": "78095014",
   "metadata": {},
   "outputs": [
    {
     "name": "stderr",
     "output_type": "stream",
     "text": [
      "Warning message in leveneTest.default(y = y, group = group, ...):\n",
      "\"group coerced to factor.\"\n",
      "Warning message:\n",
      "\"Unknown or uninitialised column: `p.value`.\"\n"
     ]
    },
    {
     "ename": "ERROR",
     "evalue": "Error in data.frame(LT_Statistic = lt_statistic, LT_P_Value = lt_p_value, : arguments imply differing number of rows: 1, 0\n",
     "output_type": "error",
     "traceback": [
      "Error in data.frame(LT_Statistic = lt_statistic, LT_P_Value = lt_p_value, : arguments imply differing number of rows: 1, 0\nTraceback:\n",
      "1. data.frame(LT_Statistic = lt_statistic, LT_P_Value = lt_p_value, \n .     stringsAsFactors = FALSE)",
      "2. stop(gettextf(\"arguments imply differing number of rows: %s\", \n .     paste(unique(nrows), collapse = \", \")), domain = NA)"
     ]
    }
   ],
   "source": [
    "data_combined <- data.frame(\n",
    "  value = c(data1, data2),\n",
    "  group = rep(c(\"Group1\", \"Group2\"), each = length(data1))\n",
    ")\n",
    "levene_test <- levene_test(value ~ group, data = data_combined)\n",
    "lt_statistic <- levene_test$statistic\n",
    "lt_p_value <- levene_test$p.value\n",
    "results_df <- data.frame(\n",
    "  LT_Statistic = lt_statistic,\n",
    "  LT_P_Value = lt_p_value,\n",
    "  stringsAsFactors = FALSE\n",
    ")\n",
    "\n",
    "print(results_df)\n",
    "descriptive_stats <- data_combined %>%\n",
    "  group_by(group) %>%\n",
    "  summarise(\n",
    "    Mean = mean(value),\n",
    "    Median = median(value),\n",
    "    SD = sd(value),\n",
    "    Min = min(value),\n",
    "    Max = max(value),\n",
    "    IQR = IQR(value),\n",
    "    .groups = 'drop'\n",
    "  )\n",
    "\n",
    "print(descriptive_stats)"
   ]
  },
  {
   "cell_type": "code",
   "execution_count": 135,
   "id": "b186b928",
   "metadata": {},
   "outputs": [
    {
     "name": "stdout",
     "output_type": "stream",
     "text": [
      "[1] 464.82633982644057\n",
      "[1] 3.6356980103285255e-87\n",
      "        LT_Statistic             LT_P_Value\n",
      "1 464.82633982644057 3.6356980103285255e-87\n"
     ]
    }
   ],
   "source": [
    "if (!is.null(levene_test)) {\n",
    "  lt_statistic <- levene_test$statistic\n",
    "  lt_p_value <- levene_test$p\n",
    "}\n",
    "print(lt_statistic)\n",
    "print(lt_p_value)\n",
    "if (!is.null(lt_statistic) & !is.null(lt_p_value)) {\n",
    "  results_df <- data.frame(\n",
    "    LT_Statistic = lt_statistic,\n",
    "    LT_P_Value = lt_p_value,\n",
    "    stringsAsFactors = FALSE\n",
    "  )\n",
    "  print(results_df)\n",
    "} else {\n",
    "  print(\"Levene's test failed or returned no results.\")\n",
    "}"
   ]
  },
  {
   "cell_type": "markdown",
   "id": "7ebef565",
   "metadata": {},
   "source": [
    "# Bartlett's test"
   ]
  },
  {
   "cell_type": "code",
   "execution_count": 136,
   "id": "4e76603a",
   "metadata": {},
   "outputs": [
    {
     "name": "stdout",
     "output_type": "stream",
     "text": [
      "                           BT_Statistic BT_P_Value\n",
      "Bartlett's K-squared 12622.189033211498          0\n",
      "\u001b[90m# A tibble: 2 × 7\u001b[39m\n",
      "  group       Mean   Median        SD    Min      Max       IQR\n",
      "  \u001b[3m\u001b[90m<chr>\u001b[39m\u001b[23m      \u001b[3m\u001b[90m<dbl>\u001b[39m\u001b[23m    \u001b[3m\u001b[90m<dbl>\u001b[39m\u001b[23m     \u001b[3m\u001b[90m<dbl>\u001b[39m\u001b[23m  \u001b[3m\u001b[90m<dbl>\u001b[39m\u001b[23m    \u001b[3m\u001b[90m<dbl>\u001b[39m\u001b[23m     \u001b[3m\u001b[90m<dbl>\u001b[39m\u001b[23m\n",
      "\u001b[90m1\u001b[39m Group1     0.130    0.126    0.077\u001b[4m8\u001b[24m 0.078\u001b[4m6\u001b[24m     1.95    0.028\u001b[4m9\u001b[24m\n",
      "\u001b[90m2\u001b[39m Group2 \u001b[4m1\u001b[24m\u001b[4m0\u001b[24m584.    \u001b[4m8\u001b[24m595.    \u001b[4m7\u001b[24m071.     3.62   \u001b[4m5\u001b[24m\u001b[4m3\u001b[24m647.   \u001b[4m7\u001b[24m649.    \n"
     ]
    }
   ],
   "source": [
    "data_combined <- data.frame(\n",
    "  value = c(data1, data2),\n",
    "  group = rep(c(\"Group1\", \"Group2\"), each = length(data1))\n",
    ")\n",
    "bartlett_test <- bartlett.test(value ~ group, data = data_combined)\n",
    "bt_statistic <- bartlett_test$statistic\n",
    "bt_p_value <- bartlett_test$p.value\n",
    "results_df <- data.frame(\n",
    "  BT_Statistic = bt_statistic,\n",
    "  BT_P_Value = bt_p_value,\n",
    "  stringsAsFactors = FALSE\n",
    ")\n",
    "\n",
    "print(results_df)\n",
    "descriptive_stats <- data_combined %>%\n",
    "  group_by(group) %>%\n",
    "  summarise(\n",
    "    Mean = mean(value),\n",
    "    Median = median(value),\n",
    "    SD = sd(value),\n",
    "    Min = min(value),\n",
    "    Max = max(value),\n",
    "    IQR = IQR(value),\n",
    "    .groups = 'drop'\n",
    "  )\n",
    "\n",
    "print(descriptive_stats)"
   ]
  },
  {
   "cell_type": "markdown",
   "id": "d1861010",
   "metadata": {},
   "source": [
    "# Welch's t-test"
   ]
  },
  {
   "cell_type": "code",
   "execution_count": 137,
   "id": "f0f65174",
   "metadata": {},
   "outputs": [
    {
     "name": "stderr",
     "output_type": "stream",
     "text": [
      "Warning message in data.frame(Group = c(\"Group1\", \"Group2\"), W_Statistic_BaseR = c(shapiro_test_data1_base$statistic, :\n",
      "\"row names were found from a short variable and have been discarded\"\n"
     ]
    },
    {
     "name": "stdout",
     "output_type": "stream",
     "text": [
      "   Group   W_Statistic_BaseR          P_Value_BaseR W_Statistic_rstatix\n",
      "1 Group1 0.15662734413787349 4.5038078170791347e-45 0.15662734413787349\n",
      "2 Group2 0.83827358893124349 5.1038240299305787e-24 0.83827358893124349\n",
      "         P_Value_rstatix            F_Statistic F_P_Value         T_Statistic\n",
      "1 4.5038078170791347e-45 1.2110676185900462e-10         0 -36.354367224151197\n",
      "2 5.1038240299305787e-24 1.2110676185900462e-10         0 -36.354367224151197\n",
      "                T_P_Value\n",
      "1 1.2251276114129946e-152\n",
      "2 1.2251276114129946e-152\n"
     ]
    }
   ],
   "source": [
    "data_combined <- data.frame(\n",
    "  value = c(data1, data2),\n",
    "  group = rep(c(\"Group1\", \"Group2\"), each = length(data1))\n",
    ")\n",
    "shapiro_test_data1_base <- shapiro.test(data1)\n",
    "shapiro_test_data2_base <- shapiro.test(data2)\n",
    "shapiro_test_rstatix <- data_combined %>%\n",
    "  group_by(group) %>%\n",
    "  shapiro_test(value)\n",
    "swt_statistic_rstatix <- shapiro_test_rstatix$statistic\n",
    "swt_p_value_rstatix <- shapiro_test_rstatix$p\n",
    "var_test <- var.test(data1, data2)\n",
    "t_test <- t.test(data1, data2, var.equal = FALSE)\n",
    "t_statistic <- t_test$statistic\n",
    "t_p_value <- t_test$p.value\n",
    "results_df <- data.frame(\n",
    "  Group = c(\"Group1\", \"Group2\"),\n",
    "  W_Statistic_BaseR = c(shapiro_test_data1_base$statistic, shapiro_test_data2_base$statistic),\n",
    "  P_Value_BaseR = c(shapiro_test_data1_base$p.value, shapiro_test_data2_base$p.value),\n",
    "  W_Statistic_rstatix = c(swt_statistic_rstatix[1], swt_statistic_rstatix[2]),\n",
    "  P_Value_rstatix = c(swt_p_value_rstatix[1], swt_p_value_rstatix[2]),\n",
    "  F_Statistic = var_test$statistic,\n",
    "  F_P_Value = var_test$p.value,\n",
    "  T_Statistic = t_statistic,\n",
    "  T_P_Value = t_p_value,\n",
    "  stringsAsFactors = FALSE\n",
    ")\n",
    "\n",
    "print(results_df)"
   ]
  },
  {
   "cell_type": "markdown",
   "id": "95a3d37f",
   "metadata": {},
   "source": [
    "# Permutation test"
   ]
  },
  {
   "cell_type": "code",
   "execution_count": 138,
   "id": "b4f2ccd5",
   "metadata": {},
   "outputs": [
    {
     "name": "stdout",
     "output_type": "stream",
     "text": [
      "[1] \"pt_statistic: -10583.6528362982\"\n",
      "[1] \"pt_p_value: 0\"\n"
     ]
    }
   ],
   "source": [
    "test_statistic <- function(x, y) {\n",
    "  return(mean(x) - mean(y))\n",
    "}\n",
    "obs_stat <- test_statistic(data1, data2)\n",
    "n_permutations <- 1000\n",
    "perm_stats <- numeric(n_permutations)\n",
    "combined <- c(data1, data2)\n",
    "for (i in 1:n_permutations) {\n",
    "  permuted <- sample(combined)\n",
    "  perm_data1 <- permuted[1:length(data1)]\n",
    "  perm_data2 <- permuted[(length(data1)+1):length(combined)]\n",
    "  perm_stats[i] <- test_statistic(perm_data1, perm_data2)\n",
    "}\n",
    "p_value <- mean(abs(perm_stats) >= abs(obs_stat))\n",
    "print(paste(\"pt_statistic:\", obs_stat))\n",
    "print(paste(\"pt_p_value:\", p_value))\n"
   ]
  },
  {
   "cell_type": "code",
   "execution_count": 139,
   "id": "2179723c",
   "metadata": {},
   "outputs": [
    {
     "name": "stderr",
     "output_type": "stream",
     "text": [
      "Warning message:\n",
      "\"\u001b[1m\u001b[22mThe statistic is based on a difference or ratio; by default, for difference-based statistics, the explanatory variable\n",
      "is subtracted in the order \"data1\" - \"data2\", or divided in the order \"data1\" / \"data2\" for ratio-based statistics. To\n",
      "specify this order yourself, supply `order = c(\"data1\", \"data2\")` to the calculate() function.\"\n",
      "Warning message:\n",
      "\"\u001b[1m\u001b[22mPlease be cautious in reporting a p-value of 0. This result is an approximation based on the number of `reps` chosen in\n",
      "the `generate()` step.\n",
      "\u001b[36mℹ\u001b[39m See `get_p_value()` (`?infer::get_p_value()`) for more information.\"\n"
     ]
    },
    {
     "name": "stdout",
     "output_type": "stream",
     "text": [
      "[1] \"pt_statistic: -10583.6528362982\"\n",
      "[1] \"pt_p_value: 0\"\n"
     ]
    }
   ],
   "source": [
    "if (!require(infer)) install.packages(\"infer\")\n",
    "library(infer)\n",
    "data <- data.frame(\n",
    "  value = c(data1, data2),\n",
    "  group = factor(rep(c(\"data1\", \"data2\"), each = length(data1)))\n",
    ")\n",
    "perm_test <- data %>%\n",
    "  specify(response = value, explanatory = group) %>%\n",
    "  hypothesize(null = \"independence\") %>%\n",
    "  generate(reps = 1000, type = \"permute\") %>%\n",
    "  calculate(stat = \"diff in means\")\n",
    "p_value <- perm_test %>%\n",
    "  get_p_value(obs_stat = obs_stat, direction = \"two.sided\")\n",
    "print(paste(\"pt_statistic:\", obs_stat))\n",
    "print(paste(\"pt_p_value:\", p_value))\n"
   ]
  },
  {
   "cell_type": "markdown",
   "id": "ecc72f6a",
   "metadata": {},
   "source": [
    "# F-test"
   ]
  },
  {
   "cell_type": "code",
   "execution_count": 140,
   "id": "109415ba",
   "metadata": {
    "scrolled": true
   },
   "outputs": [
    {
     "name": "stdout",
     "output_type": "stream",
     "text": [
      "[1] \"F_statistic: 1321.64001626847\"\n",
      "[1] \"F_p_value: 1.14571616167022e-194\"\n"
     ]
    }
   ],
   "source": [
    "data <- data.frame(\n",
    "  value = c(data1, data2),\n",
    "  group = factor(rep(c(\"data1\", \"data2\"), each = length(data1)))\n",
    ")\n",
    "anova_result <- aov(value ~ group, data = data)\n",
    "summary_result <- summary(anova_result)\n",
    "F_statistic <- summary_result[[1]]$`F value`[1]\n",
    "F_p_value <- summary_result[[1]]$`Pr(>F)`[1]\n",
    "\n",
    "print(paste(\"F_statistic:\", F_statistic))\n",
    "print(paste(\"F_p_value:\", F_p_value))\n"
   ]
  },
  {
   "cell_type": "markdown",
   "id": "c953235d",
   "metadata": {},
   "source": [
    "# Shapiro-Wilk Test"
   ]
  },
  {
   "cell_type": "code",
   "execution_count": 141,
   "id": "9267ca98",
   "metadata": {},
   "outputs": [
    {
     "name": "stdout",
     "output_type": "stream",
     "text": [
      "   Group   W_Statistic_BaseR          P_Value_BaseR\n",
      "1 Group1 0.15662734413787349 4.5038078170791347e-45\n",
      "2 Group2 0.83827358893124349 5.1038240299305787e-24\n"
     ]
    }
   ],
   "source": [
    "shapiro_test_data1_base <- shapiro.test(data1)\n",
    "shapiro_test_data2_base <- shapiro.test(data2)\n",
    "results_df <- data.frame(\n",
    "  Group = c(\"Group1\", \"Group2\"),\n",
    "  W_Statistic_BaseR = c(shapiro_test_data1_base$statistic, shapiro_test_data2_base$statistic),\n",
    "  P_Value_BaseR = c(shapiro_test_data1_base$p.value, shapiro_test_data2_base$p.value),\n",
    "  stringsAsFactors = FALSE\n",
    ")\n",
    "print(results_df)"
   ]
  },
  {
   "cell_type": "markdown",
   "id": "4cc7529b",
   "metadata": {},
   "source": [
    "# Mann-Whitney U Test"
   ]
  },
  {
   "cell_type": "code",
   "execution_count": 142,
   "id": "27ac8f73",
   "metadata": {},
   "outputs": [
    {
     "data": {
      "text/html": [
       "<strong>W:</strong> 0"
      ],
      "text/latex": [
       "\\textbf{W:} 0"
      ],
      "text/markdown": [
       "**W:** 0"
      ],
      "text/plain": [
       "W \n",
       "0 "
      ]
     },
     "metadata": {},
     "output_type": "display_data"
    },
    {
     "data": {
      "text/html": [
       "2.61024542347313e-194"
      ],
      "text/latex": [
       "2.61024542347313e-194"
      ],
      "text/markdown": [
       "2.61024542347313e-194"
      ],
      "text/plain": [
       "[1] 2.6102454234731252e-194"
      ]
     },
     "metadata": {},
     "output_type": "display_data"
    }
   ],
   "source": [
    "data_combined <- data.frame(\n",
    "  value = c(data1, data2),\n",
    "  group = rep(c(\"Group1\", \"Group2\"), each = length(data1))\n",
    ")\n",
    "\n",
    "# Base R (stats)\n",
    "mann_whitney_base_r <- wilcox.test(value ~ group, data = data_combined)\n",
    "mwut_statistic_base_r <- mann_whitney_base_r$statistic\n",
    "mwut_p_value_base_r <- mann_whitney_base_r$p.value\n",
    "mwut_statistic_base_r\n",
    "mwut_p_value_base_r"
   ]
  },
  {
   "cell_type": "markdown",
   "id": "10f79502",
   "metadata": {},
   "source": [
    "# Kruskal-Wallis Test"
   ]
  },
  {
   "cell_type": "code",
   "execution_count": 143,
   "id": "27aebd05",
   "metadata": {},
   "outputs": [
    {
     "data": {
      "text/html": [
       "<strong>Kruskal-Wallis chi-squared:</strong> 884.250635055038"
      ],
      "text/latex": [
       "\\textbf{Kruskal-Wallis chi-squared:} 884.250635055038"
      ],
      "text/markdown": [
       "**Kruskal-Wallis chi-squared:** 884.250635055038"
      ],
      "text/plain": [
       "Kruskal-Wallis chi-squared \n",
       "         884.2506350550384 "
      ]
     },
     "metadata": {},
     "output_type": "display_data"
    },
    {
     "data": {
      "text/html": [
       "2.60361578670387e-194"
      ],
      "text/latex": [
       "2.60361578670387e-194"
      ],
      "text/markdown": [
       "2.60361578670387e-194"
      ],
      "text/plain": [
       "[1] 2.6036157867038673e-194"
      ]
     },
     "metadata": {},
     "output_type": "display_data"
    }
   ],
   "source": [
    "# Base R (stats)\n",
    "kruskal_wallis_base_r <- kruskal.test(value ~ group, data = data_combined)\n",
    "kwt_statistic_base_r <- kruskal_wallis_base_r$statistic\n",
    "kwt_p_value_base_r <- kruskal_wallis_base_r$p.value\n",
    "kwt_statistic_base_r\n",
    "kwt_p_value_base_r"
   ]
  },
  {
   "cell_type": "code",
   "execution_count": 144,
   "id": "6c4196c8",
   "metadata": {},
   "outputs": [
    {
     "data": {
      "text/html": [
       "<strong>Kruskal-Wallis chi-squared:</strong> 884.250635055038"
      ],
      "text/latex": [
       "\\textbf{Kruskal-Wallis chi-squared:} 884.250635055038"
      ],
      "text/markdown": [
       "**Kruskal-Wallis chi-squared:** 884.250635055038"
      ],
      "text/plain": [
       "Kruskal-Wallis chi-squared \n",
       "         884.2506350550384 "
      ]
     },
     "metadata": {},
     "output_type": "display_data"
    },
    {
     "data": {
      "text/html": [
       "2.6e-194"
      ],
      "text/latex": [
       "2.6e-194"
      ],
      "text/markdown": [
       "2.6e-194"
      ],
      "text/plain": [
       "[1] 2.5999999999999991e-194"
      ]
     },
     "metadata": {},
     "output_type": "display_data"
    }
   ],
   "source": [
    "# rstatix package\n",
    "kwt_rstatix <- data_combined %>%\n",
    "  kruskal_test(value ~ group)\n",
    "kwt_statistic_rstatix <- kwt_rstatix$statistic\n",
    "kwt_p_value_rstatix <- kwt_rstatix$p\n",
    "kwt_statistic_rstatix\n",
    "kwt_p_value_rstatix"
   ]
  },
  {
   "cell_type": "markdown",
   "id": "a7e702f9",
   "metadata": {},
   "source": [
    "# ANOVA"
   ]
  },
  {
   "cell_type": "code",
   "execution_count": 145,
   "id": "e467a80e",
   "metadata": {},
   "outputs": [
    {
     "name": "stdout",
     "output_type": "stream",
     "text": [
      "[1] \"ANOVA F-Statistics Results:\"\n",
      "$Base_R_stats\n",
      "[1] 1321.6400162684724\n",
      "\n",
      "$car\n",
      "[1] 1321.6400162684727\n",
      "\n",
      "$lmtest\n",
      "[1] 1321.6400162684724\n",
      "\n",
      "$BSDA\n",
      "[1] NA\n",
      "\n",
      "[1] \"ANOVA P-Values Results:\"\n",
      "$Base_R_stats\n",
      "[1] 1.1457161616702174e-194\n",
      "\n",
      "$car\n",
      "[1] 1.1457161616700872e-194\n",
      "\n",
      "$lmtest\n",
      "[1] 1.1457161616702174e-194\n",
      "\n",
      "$BSDA\n",
      "[1] NA\n",
      "\n",
      "[1] \"ANOVA Summary Data Frame:\"\n",
      "                  package        F_Statistic                 P_Value\n",
      "Base_R_stats Base_R_stats 1321.6400162684724 1.1457161616702174e-194\n",
      "car                   car 1321.6400162684727 1.1457161616700872e-194\n",
      "lmtest             lmtest 1321.6400162684724 1.1457161616702174e-194\n",
      "BSDA                 BSDA                 NA                      NA\n"
     ]
    }
   ],
   "source": [
    "library(dplyr)\n",
    "library(car)\n",
    "library(lmtest)\n",
    "library(sandwich)\n",
    "library(BSDA)\n",
    "data_combined <- data.frame(\n",
    "  group = factor(rep(c(\"Group1\", \"Group2\"), each = length(data1))),\n",
    "  value = c(data1, data2)\n",
    ")\n",
    "\n",
    "# Base R (stats) - ANOVA\n",
    "anova_base_r <- aov(value ~ group, data = data_combined)\n",
    "ANOVA_F_statistic_base_r <- summary(anova_base_r)[[1]][\"group\", \"F value\"]\n",
    "ANOVA_p_value_base_r <- summary(anova_base_r)[[1]][\"group\", \"Pr(>F)\"]\n",
    "\n",
    "# car package - ANOVA\n",
    "anova_car <- Anova(anova_base_r, type = \"II\")\n",
    "ANOVA_F_statistic_car <- anova_car[\"group\", \"F value\"]\n",
    "ANOVA_p_value_car <- anova_car[\"group\", \"Pr(>F)\"]\n",
    "\n",
    "# lmtest package - ANOVA \n",
    "anova_lmtest <- waldtest(anova_base_r)\n",
    "ANOVA_F_statistic_lmtest <- anova_lmtest[2, \"F\"]\n",
    "ANOVA_p_value_lmtest <- anova_lmtest[2, \"Pr(>F)\"]\n",
    "\n",
    "# BSDA package - ANOVA \n",
    "ANOVA_F_statistic_bsda <- NA\n",
    "ANOVA_p_value_bsda <- NA\n",
    "\n",
    "results_list_ANOVA_F_statistic <- list(\n",
    "  Base_R_stats = ANOVA_F_statistic_base_r,\n",
    "  car = ANOVA_F_statistic_car,\n",
    "  lmtest = ANOVA_F_statistic_lmtest,\n",
    "  BSDA = ANOVA_F_statistic_bsda\n",
    ")\n",
    "\n",
    "results_list_ANOVA_p_value <- list(\n",
    "  Base_R_stats = ANOVA_p_value_base_r,\n",
    "  car = ANOVA_p_value_car,\n",
    "  lmtest = ANOVA_p_value_lmtest,\n",
    "  BSDA = ANOVA_p_value_bsda\n",
    ")\n",
    "length_F_statistic_ANOVA <- length(results_list_ANOVA_F_statistic)\n",
    "length_p_value_ANOVA <- length(results_list_ANOVA_p_value)\n",
    "\n",
    "if (length_F_statistic_ANOVA != length_p_value_ANOVA) {\n",
    "  stop(\"Mismatch in lengths of results lists: F-statistic list has \", \n",
    "       length_F_statistic_ANOVA, \" elements, but P-value list has \", length_p_value_ANOVA, \" elements.\")\n",
    "}\n",
    "\n",
    "results_df_ANOVA <- data.frame(\n",
    "  package = names(results_list_ANOVA_F_statistic),\n",
    "  F_Statistic = unlist(results_list_ANOVA_F_statistic),\n",
    "  P_Value = unlist(results_list_ANOVA_p_value),\n",
    "  stringsAsFactors = FALSE\n",
    ")\n",
    "print(\"ANOVA F-Statistics Results:\")\n",
    "print(results_list_ANOVA_F_statistic)\n",
    "print(\"ANOVA P-Values Results:\")\n",
    "print(results_list_ANOVA_p_value)\n",
    "print(\"ANOVA Summary Data Frame:\")\n",
    "print(results_df_ANOVA)\n"
   ]
  },
  {
   "cell_type": "markdown",
   "id": "52efe937",
   "metadata": {},
   "source": [
    "# Chi-Square Test"
   ]
  },
  {
   "cell_type": "code",
   "execution_count": 146,
   "id": "09ec780a",
   "metadata": {},
   "outputs": [
    {
     "name": "stderr",
     "output_type": "stream",
     "text": [
      "Warning message in chisq.test(contingency_table):\n",
      "\"Chi-squared approximation may be incorrect\"\n"
     ]
    },
    {
     "name": "stdout",
     "output_type": "stream",
     "text": [
      "              Chi2_Statistic           Chi2_P_Value\n",
      "X-squared 271.92909280500521 1.2244919277578654e-57\n"
     ]
    }
   ],
   "source": [
    "data_combined <- data.frame(\n",
    "  value = c(data1, data2),\n",
    "  group = rep(c(\"Group1\", \"Group2\"), each = length(data1))\n",
    ")\n",
    "data_combined$category <- cut(data_combined$value, breaks = 5)\n",
    "\n",
    "contingency_table <- table(data_combined$group, data_combined$category)\n",
    "\n",
    "chi2_test <- chisq.test(contingency_table)\n",
    "chi2_statistic <- chi2_test$statistic\n",
    "chi2_p_value <- chi2_test$p.value\n",
    "results_df <- data.frame(\n",
    "  Chi2_Statistic = chi2_statistic,\n",
    "  Chi2_P_Value = chi2_p_value,\n",
    "  stringsAsFactors = FALSE\n",
    ")\n",
    "print(results_df)\n"
   ]
  },
  {
   "cell_type": "markdown",
   "id": "0d127f9a",
   "metadata": {},
   "source": [
    "# Kolmogorov-Smirnov Test"
   ]
  },
  {
   "cell_type": "code",
   "execution_count": 147,
   "id": "0cc2e193",
   "metadata": {},
   "outputs": [
    {
     "data": {
      "text/html": [
       "<strong>D:</strong> 1"
      ],
      "text/latex": [
       "\\textbf{D:} 1"
      ],
      "text/markdown": [
       "**D:** 1"
      ],
      "text/plain": [
       "D \n",
       "1 "
      ]
     },
     "metadata": {},
     "output_type": "display_data"
    },
    {
     "data": {
      "text/html": [
       "0"
      ],
      "text/latex": [
       "0"
      ],
      "text/markdown": [
       "0"
      ],
      "text/plain": [
       "[1] 0"
      ]
     },
     "metadata": {},
     "output_type": "display_data"
    }
   ],
   "source": [
    "data_combined <- data.frame(\n",
    "  value1 = data1,\n",
    "  value2 = data2\n",
    ")\n",
    "kst_statistic_base_r <- ks.test(data1, data2)$statistic\n",
    "kst_p_value_base_r <- ks.test(data1, data2)$p.value\n",
    "kst_statistic_base_r\n",
    "kst_p_value_base_r "
   ]
  },
  {
   "cell_type": "markdown",
   "id": "e98a3ab2",
   "metadata": {},
   "source": [
    "# Paired t-test"
   ]
  },
  {
   "cell_type": "code",
   "execution_count": 148,
   "id": "c068d160",
   "metadata": {
    "scrolled": false
   },
   "outputs": [
    {
     "data": {
      "text/html": [
       "-36.3542600925474"
      ],
      "text/latex": [
       "-36.3542600925474"
      ],
      "text/markdown": [
       "-36.3542600925474"
      ],
      "text/plain": [
       "[1] -36.354260092547435"
      ]
     },
     "metadata": {},
     "output_type": "display_data"
    },
    {
     "data": {
      "text/html": [
       "1.22660057684304e-152"
      ],
      "text/latex": [
       "1.22660057684304e-152"
      ],
      "text/markdown": [
       "1.22660057684304e-152"
      ],
      "text/plain": [
       "[1] 1.2266005768430398e-152"
      ]
     },
     "metadata": {},
     "output_type": "display_data"
    }
   ],
   "source": [
    "differences <- data1 - data2\n",
    "mean_diff <- mean(differences)\n",
    "sd_diff <- sd(differences)\n",
    "n <- length(differences)\n",
    "t_statistic <- mean_diff / (sd_diff / sqrt(n))\n",
    "\n",
    "p_value <- 2 * pt(-abs(t_statistic), df = n - 1)\n",
    "\n",
    "t_statistic\n",
    "p_value\n"
   ]
  },
  {
   "cell_type": "code",
   "execution_count": null,
   "id": "3403e11c",
   "metadata": {},
   "outputs": [],
   "source": []
  },
  {
   "cell_type": "code",
   "execution_count": 149,
   "id": "2244608a",
   "metadata": {
    "scrolled": true
   },
   "outputs": [
    {
     "data": {
      "text/html": [
       "<strong>t:</strong> -36.3543672241512"
      ],
      "text/latex": [
       "\\textbf{t:} -36.3543672241512"
      ],
      "text/markdown": [
       "**t:** -36.3543672241512"
      ],
      "text/plain": [
       "                  t \n",
       "-36.354367224151204 "
      ]
     },
     "metadata": {},
     "output_type": "display_data"
    },
    {
     "data": {
      "text/html": [
       "1.14571616167908e-194"
      ],
      "text/latex": [
       "1.14571616167908e-194"
      ],
      "text/markdown": [
       "1.14571616167908e-194"
      ],
      "text/plain": [
       "[1] 1.1457161616790812e-194"
      ]
     },
     "metadata": {},
     "output_type": "display_data"
    },
    {
     "data": {
      "text/html": [
       "<strong>t value:</strong> 36.3543672241513"
      ],
      "text/latex": [
       "\\textbf{t value:} 36.3543672241513"
      ],
      "text/markdown": [
       "**t value:** 36.3543672241513"
      ],
      "text/plain": [
       "           t value \n",
       "36.354367224151304 "
      ]
     },
     "metadata": {},
     "output_type": "display_data"
    },
    {
     "data": {
      "text/html": [
       "<strong>t value:</strong> 0"
      ],
      "text/latex": [
       "\\textbf{t value:} 0"
      ],
      "text/markdown": [
       "**t value:** 0"
      ],
      "text/plain": [
       "t value \n",
       "      0 "
      ]
     },
     "metadata": {},
     "output_type": "display_data"
    }
   ],
   "source": [
    "data_combined <- data.frame(\n",
    "  value = c(data1, data2),\n",
    "  group = rep(c(\"Group1\", \"Group2\"), each = length(data1))\n",
    ")\n",
    "\n",
    "# Base R (stats)\n",
    "itt_stats <- t.test(data1, data2, var.equal = TRUE)\n",
    "itt_statistic_base_r <- itt_stats$statistic\n",
    "itt_p_value_base_r <- itt_stats$p.value\n",
    "\n",
    "# lmtest package\n",
    "model_lm <- lm(value ~ group, data = data_combined)\n",
    "itt_lmtest <- coeftest(model_lm, vcov = vcovHC(model_lm, type = \"HC1\"))[2,]\n",
    "itt_statistic_lmtest <- itt_lmtest[\"t value\"]\n",
    "itt_p_value_lmtest <- 2 * (1 - pnorm(abs(itt_statistic_lmtest))) # p-value calculation should use absolute value\n",
    "\n",
    "\n",
    "itt_statistic_base_r \n",
    "itt_p_value_base_r\n",
    "itt_statistic_lmtest\n",
    "itt_p_value_lmtest"
   ]
  },
  {
   "cell_type": "code",
   "execution_count": null,
   "id": "6a04a926",
   "metadata": {},
   "outputs": [],
   "source": []
  },
  {
   "cell_type": "code",
   "execution_count": null,
   "id": "a15ec41e",
   "metadata": {},
   "outputs": [],
   "source": []
  },
  {
   "cell_type": "code",
   "execution_count": null,
   "id": "26732414",
   "metadata": {},
   "outputs": [],
   "source": []
  },
  {
   "cell_type": "code",
   "execution_count": null,
   "id": "3905166c",
   "metadata": {},
   "outputs": [],
   "source": []
  }
 ],
 "metadata": {
  "kernelspec": {
   "display_name": "R",
   "language": "R",
   "name": "ir"
  },
  "language_info": {
   "codemirror_mode": "r",
   "file_extension": ".r",
   "mimetype": "text/x-r-source",
   "name": "R",
   "pygments_lexer": "r",
   "version": "4.3.0"
  }
 },
 "nbformat": 4,
 "nbformat_minor": 5
}
